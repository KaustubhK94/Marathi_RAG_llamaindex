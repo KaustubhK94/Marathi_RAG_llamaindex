{
  "nbformat": 4,
  "nbformat_minor": 0,
  "metadata": {
    "colab": {
      "provenance": [],
      "gpuType": "T4"
    },
    "kernelspec": {
      "name": "python3",
      "display_name": "Python 3"
    },
    "language_info": {
      "name": "python"
    },
    "accelerator": "GPU",
    "widgets": {
      "application/vnd.jupyter.widget-state+json": {
        "a10a71a4a5324dbeac34a556800bfb9c": {
          "model_module": "@jupyter-widgets/controls",
          "model_name": "HBoxModel",
          "model_module_version": "1.5.0",
          "state": {
            "_dom_classes": [],
            "_model_module": "@jupyter-widgets/controls",
            "_model_module_version": "1.5.0",
            "_model_name": "HBoxModel",
            "_view_count": null,
            "_view_module": "@jupyter-widgets/controls",
            "_view_module_version": "1.5.0",
            "_view_name": "HBoxView",
            "box_style": "",
            "children": [
              "IPY_MODEL_09eeb496bff445a498e81b0f626c704c",
              "IPY_MODEL_07d3e00a404749dcb49243827573fd63"
            ],
            "layout": "IPY_MODEL_efbe33565a4c4910a4fcba7e679968e0"
          }
        },
        "09eeb496bff445a498e81b0f626c704c": {
          "model_module": "@jupyter-widgets/controls",
          "model_name": "VBoxModel",
          "model_module_version": "1.5.0",
          "state": {
            "_dom_classes": [],
            "_model_module": "@jupyter-widgets/controls",
            "_model_module_version": "1.5.0",
            "_model_name": "VBoxModel",
            "_view_count": null,
            "_view_module": "@jupyter-widgets/controls",
            "_view_module_version": "1.5.0",
            "_view_name": "VBoxView",
            "box_style": "",
            "children": [
              "IPY_MODEL_02436962952f44cdb39f832616c479a1",
              "IPY_MODEL_067800c7e2354db297deccfe3097ee2a",
              "IPY_MODEL_09a8e7030d3b474596c96667ef5ecf3c",
              "IPY_MODEL_36b2f92b8d354e1f8e924af2490a14e0",
              "IPY_MODEL_5023b675567e4bd4aec3a3c78bbc7de5"
            ],
            "layout": "IPY_MODEL_38e83548ea7444039635682769652d1c"
          }
        },
        "07d3e00a404749dcb49243827573fd63": {
          "model_module": "@jupyter-widgets/output",
          "model_name": "OutputModel",
          "model_module_version": "1.0.0",
          "state": {
            "_dom_classes": [],
            "_model_module": "@jupyter-widgets/output",
            "_model_module_version": "1.0.0",
            "_model_name": "OutputModel",
            "_view_count": null,
            "_view_module": "@jupyter-widgets/output",
            "_view_module_version": "1.0.0",
            "_view_name": "OutputView",
            "layout": "IPY_MODEL_fcf3e90c59be48d59a5d8276a57b805a",
            "msg_id": "",
            "outputs": [
              {
                "output_type": "display_data",
                "data": {
                  "text/plain": "<IPython.core.display.Markdown object>",
                  "text/markdown": "# Page 1\n\nहिरोशिमातील अग्निकांड\nलेखक 8 तोशी मारूकी\n\nहिरोशिमा शहरातील ती एक प्रसन्न सकाळ होती . आकाश निरभ्र होते . आकाशात सूर्य तळपत होता .\nशहरातील बसेस ऑफिसला जाणा-या लोकांची ने आण करण्यात मग्न होत्या . शहरातील सातही नदया\nसंथपणे वाहात होत्या . पाण्यावर सूर्यकिरणे पडून ते चमचमत होते -\n\nजपानमधील टोकियो, ओसाका, नागोया या आणि इतर शहरांवर हवाई हल्ले चालू होते. या\nहल्ल्यांमधून आपले शहर वगळले गेल्यावद्दल हिरोशिमावासी आश्चर्य व्यक्‍त करीत होते . त्यांनी हवाई\nहल्ल्यांना तोंड देण्यासाठी शक्‍य तितकी सर्व खबरदारी घेतली होती . आग पसरण्याचा धोका कमी\nकरण्यासाठी जुन्या इमारती पाडून रस्ते रूंद केले होते . बॉम्बहल्ल्यापासून वचावासाठी सुरक्षित जागा\nनिश्चित केल्या होत्या . अन्न, पाणी, औषधे अशा दैनंदिन वस्तूंचा साठा करून ठेवला होता . घराबाहेर\nपडताना सर्वजण शिरस्त्राण घालून वाहेर पडत असत .\n\n'मि' ही एक सात वर्षांची मुलगी याच शहरात आपल्या आईवडिलांसोवत राहात होती . 'मि' चे कुटुंब\nसकाळचा नेहमीचाच रताळयांचा नाश्ता करत होते . ती रताळी 'मि'च्या चुलतभावाने आणून दिली\nहोती . भुकेल्या पोटी 'मि' त्या नाश्त्यावर ताव मारत होती . 'मि'च्या वडिलांना नाश्त्यासाठी खरेतर भात\nमिळाल्यास हवा होता पण आत्ता मिळत असलेला नाश्ताही चांगला आहे हे त्यांना कळत होते .\n\nआणि तेवढयात अचानक प्रकाशाचा एक लोळ चमकला . प्रखर केशरी, मग हजारो विजा\nचमकल्यासारखा पांढरा असा तो प्रकाश होता . नंतर डोळे दिपवून टाकणारा विजांचा कडकडाट झाला\nआणि इमारती धडाधड कोसळू लागल्या .\n\nहा स्फोट होण्याच्या आधी काही क्षण अमेरिकेचे 'एनोला गे' या नावाचे विमान शहरावरून फिरत होते\nआणि अतिशय गुप्त असे महासंहारक स्फोटक त्यांनी हिरोशिमावर टाकले . हे स्फोटक म्हणजे वी २९\nच्या विमान कर्मचा-यांनी 'छोटा मुलगा' हे नाव दिलेला अणुबॉम्ब होता .\n\nहा 'छोटा मुलगा ६ ऑगस्ट १९४५ रोजी सकाळी ८ .४५ वाजता हिरोशिमावर कोसळला. या\nस्फोटाच्या धक्कयाने 'मि' वेशुद्ध पडली . ती शुद्धीवर आल्यानंतर तिला सर्वत्र अंधार आणि भयाण\nशांतता आढळली . तिला अजिबात हालचाल करता येत नव्हती आणि सभोवतालच्या वातावरणाची\nतिला प्रचंड भीती वाटत होती . त्याच काळोखात तिला एक लालसर प्रकाशाचा झोत दिसला आणि\nतिच्या आईच्या हाका ऐकू आल्या .\n\f\n\n# Page 2\n\nअंगावर कोसळलेल्या जाडजूड लाकडी फळयांमधून 'मि' कशीबशी बाहेर पडली . तिच्या आईने तिला\nकुशीत घेतले आणि तिला म्हणाली “आपण येथून ताबडतोब बाहेर पडायला हवं . . तुझे वडिल\nआगीच्या ज्वाळांमध्ये सापडले आहेत . ”\n\n“मि' आणि तिची आई आगीच्या कडेकडेने चालायला लागल्या आणि मनातल्या मनात वीडलांसाठी\nप्रार्थना करू लागल्या . 'मि'च्या आईला तिचे वडिल दिसले व तिने आगीत शिरून झटकन त्यांना ओढून\nकाढले . त्यांच्या अंगावर भयानक जखमा झाल्या होत्या . 'मि'च्या आईने तिच्या किमोनोचा कमरेचा बंद\nकाढून वडिलांच्या अंगाभोवती वेंडेजसारखा गुंडाळला . आणि नंतर तिने आश्रच्वर्य वाटावे अशा प्रकारे\n'मि'च्या वडिलांना स्वतःच्या पाठीवर घेतले व 'मि'चा हात धरून पळायला सुरूवात केली .\n\n“आपण लवकरात लवकर नदीपाशी पोहोचायला हवे” 'मि'ची आई म्हणाली . ते तिघेजण नदीच्या\nकाठावरून चालत असताना नदीत कोसळले आणि 'मि'चा हात तिच्या आईच्या हातातून सुटला . “माझे\nबोट घट्ट पकडून ठेव” 'मि'ची आई ओरडून म्हणाली .\n\nहजारो लोक आगीपासून दूर पळत होते . ज्यांच्या अंगावरचे कपडे जळाले आहेत डोळे व ओठ भयंकर\nसुजल्यामुळे चेहरा विद्रूप दिसतो आहे अशी अनेक लहान मुले 'मि'ला दिसत होती . ती मुले अक्षरश\nभुतासारखी दिसत होती व केविलवाण्या आवाजात रडत होती . चालता चालता अंगातील शक्‍ती\nनाहीशी होऊन काही लोक जमिनीवर पालथे पडले होते आणि इतर काही लोक त्यांच्या अंगावर कोसळत\nहोते . जिकडेतिकडे प्रेतांचे ढिगारे साचले होते .\n\n“मि' आणि तिच्या आईवडिलांनी आगीपासून सुटका करून घेण्याच्या प्रयलात अजून एक नदी\nओलांडली . नदीच्या काठावर पोहोचताक्षणी 'मि' च्या आईने तिच्या वडिलांचा देह खाली ठेवला आणि\nती त्यांच्या शेजारी कोसळली . 'मि' ला तिच्या पायांपाशी काहीतरी फडफडताना आढळले . तिथे पंख\nजळाल्यामुळे उडता न येणारा एक पक्षी होता . एक माणूस नदीच्या पात्रात तरंगताना तिला दिसला .\n\n\"०0. ५\n\nत्याच्याच मागे एक मेलेले मांजर तरंगत होते .\n\n“मि'ने वळून पाहिले तर एक बाई तिच्या बाळाला छातीशी धरून आकाश करीत होती . तिचे बाळ आता\nदूध पीत नव्हते . ते मृत झाले होते . त्या बाळाला छातीशी धरून ती स्त्री पाण्यातून फरफटत चालत\nहोती . 'मि' तिच्याकडे बघत असतानाच ती पाण्यात खोल खोल चालत दिसेनाशी झाली .\n\nअचानक आकाशात काळे ढग जमले विजा कडाडल्या आणि पाऊस पडू लागला . ऐन उन्हाळयाचे\nदिवस असून अचानक काळा, चिकट पाऊस पडत होता . तो थांवल्यानंतत आकाशात एक इंद्रधनुष्य\nडीलदारपणे उमटले . त्या जखमी मृत वातावरणावर ते विजोडपणे चमकत होते .\n\f\n\n# Page 3\n\n'मि'च्या आईने परत तिच्या वडिलांना पाठीवर घेतले, 'मि'चे बोट धरले आणि ते तिघेजण परत एकदा\nपळायला लागले . आगीचे लोळ वेगाने त्यांच्या दिशेने येत होते . तुटलेल्या कौलांवरून, टेलिफोनच्या\nतुटलेल्या तारांच्या जाळयामधून ते पळत होते . आजूवाजूची सर्व घरे जळत होती .\n\nआता त्या दोघी अजून एका नदीतून चालायला लागल्या . चालताचालता 'मि'ला झापड आली आणि\nनकळत तिच्या नाकातोंडात पाणी गेले . तिच्या आईने तिचे डोके पाण्यावाहेर ओढून काढले . त्या\nनदीच्या बाहेर पडल्या आणि परत पळू लागल्या .\n\nअखेरीस त्या हिरोशिमाव्या बाहेरील एका किना-यावर पोहोचल्या . धुक्यात लपेटलेले 'मिजियामा'\nनावाचे वेट पलीकडे दिसत होते . मिजियामा मेपल आणि पाईनवृक्षांनी वेढलेले होते आणि\nत्याच्याभोवताली नितळ पाणी होते . सुरक्षित ठिकाणाजवळ पाहोचल्याच्या विचाराने 'मि' व तिचे आई\nवडिल गाढ झोपी गेले . दिवसामागून रात्र अशी तीन चके पूर्ण झाली .\n\n“आजची तारीख काय आहे ?” 'मि'च्या आईने तिकडून जाणा या एका माणसाला विचारले . “आज\n९ तारीख आहे”. त्याने उत्तर दिले. 'मि'च्या आईने बोटे मोजून हिशेव केला आणि ती आश्तवर्याने\nउदगारली “चार दिवस” आपण येथे चार दिवस आहोत !\n\n“'मि' हळूच रडायला लागली . तेथून जाणा-या एका वृद्ध स्त्रीने पिशवीतून थोडासा भात काढून 'मि'ला\nदिला . तो 'मि'ने घेतला आणि ती स्त्री तिथेच कोसळून गतप्राण झाली .\n\n“मे' वाळा , तुझ्या हातात परवाचा खाऊ तसाच आहे” 'मि'ची आई म्हणाली . 'मि'च्या वंद मुठीत चार\nदिवसांपूर्वीचा खाऊ तसाच होता व तिची मूठ उघडतच नव्हती . तिच्या आईने एक एक बोट सरळ\nकरत 'मि'ची मूठ उघडली . बॉम्बस्फोटानंतर चार दिवसांनी 'मि'ने तिच्या हातातील खाऊ टाकून दिला .\n\nजवळच्या एका खेडयातून अग्निशामक दलाची माणसे त्यांच्या मदतीसाठी आली होती . सैनिक मृत देह\nहलवित होते . अजूनही नीटपणे उभ्या असलेल्या एका शाळेचे इस्पितळात रूपांतर करण्यात आले होते .\n'मि'च्या वडिलांना सैनिकांनी त्यात हलवले . इस्पितळात डॉक्टर, नर्सेस, मलमपट्टीची साधने काहीच\n\nनव्हते, फक्त निवारा होता .\n\n \n\n'मि'चे वडिल त्या इस्पितळात शक्‍य तितके सुरक्षित आहेत याची खात्री करून 'मि' व तिची आई यांनी\nपरत शहरात आपल्या घरात काही चीजवस्तू वाचल्या आहेत का हे पाहाण्याचे ठरविले . त्या घराच्या\nदिशेने चालायला लागल्या . भोवताली झाडे, गवत , घरे काहीही शिल्लक नव्हते . नजर जाईल\nतिथपर्यंत जमिनाचा जळून गेलेला पट्टा दिसत होता . सगळे उध्वस्त झालेले दिसत होते .\n\f\n\n# Page 4\n\nत्या दोधी घरापाशी पोहोचल्या . त्या घरात 'मि'चे कुटंब राहात होते याची साक्ष म्हणून फक्त 'मि'ची एक\nताटली वेडयावाकडया अवस्थेत जमिनीवर पडलेली दिसत होती . त्यात अजूनही काही रताळी दिसत\nहोती .\n\n९ ऑगस्ट १९४५, 'मि' व तिची आई त्या दगडविटांच्या ढिगाकडे पाहात असताना नागासाकीवर\nअणुवॉम्व टाकला जात होता . हिरोशिमाप्रमाणेच तेथेही हजारो लोक मरण पावले . त्यातून वाचलेले\nलोक वेघर झालेले होते . या संहाराचे वळी ठरलेल्या लोकांमध्ये जपानी लोकांप्रमाणेच कोरिया चीन\nइंडोनेशिया व अमेरिका या इतर देशांमधील लोकही सामील होते .\nअणुबॉम्ब हा आत्तापर्यंत वापरल्या गेलेल्या इतर स्फोटकांपेक्षा वेगळा होता . इतर साध्या हजारो\nबॉम्बस्फोटांमुळे जेवढा संहार झाला नसता त्याहून कितीतरी जास्त संहार एका अणुबॉम्बच्या स्फोटाने\nझाला . किरणोत्सारी रसायनांमुळे त्यानंतर आजूबाजूचा भूभाग पुढची अनेक वर्षे दूषित झाला आणि\nत्याच्या परिणामाने अनेक लोक मृत्यू पावले .\n\n \n\n'मि'ची त्यानंतर शारीरिक वाढच खुंटली . अनेक वर्षानंतरही ती सात वर्षांची असताना जेवढी होती\nतेवढीच राहिली . “बॉम्वहल्ल्याच्या धक्क्याने असे झाले आहे, असे तिची आई म्हणते . कधीकधी 'मि'\nडोके खाजते आहे अशी तकार करते . 'मि'ची आई तिच्या डोकयावरील केस बाजूला करून छोटया\nचिमटयाने तिच्या डोक्यावरील कातडीतून काचेसारखे चकाकते तुकडे उपटून काढते . काही वर्षापूर्वी\nडोक्यावर झालेल्या बॉम्बस्फोटाचा हा प्रसाद आहे .\n\n \n\n“'मि'च्या वडिलांच्या शरीरावर सात जखमा झाल्या होत्या . त्या भरून येऊ लागल्या आणि काही काळ ते\nवरे झाले आहेत असे वाटायला लागले . परंतु एका हिवाळयात वीज चमकल्यानंतर त्यांचे सर्व केस\nगळून पडले आणि त्यांना रक्‍ताच्या उलटया झाल्या . नंतर अंगभर निळेजांभळे वण उठले आणि ते मरण\nपावले . “देवानेच आमचे आयुष्य वाचविले” असे म्हणणारे कित्येक लोक नंतर अशा प्रकारे\nकिरणोत्साराच्या संसर्गाने मरण पावले . बॉम्बस्फोटाची घटना १९४५ मध्ये घडली असली तरी या संसर्गाने\nपीडित काही लोक अजूनही इस्पितळात आहेत . त्यांच्या या दुखण्यावर कोणताही इलाज नाही .\n\nहिरोशिमामध्ये आता दरवर्षी ६ ऑगस्ट रोजी वॉम्बहल्ल्यात मरण पावलेल्या लोकांचे नातेवाईक दिव्यांवर\nमृत व्यक्तींची नावे कोरून ते दिवे नदयांच्या प्रवाहात सोडतात . हिरोशिमातील सात नदया ते दिवे\nघेऊन संथपणे समुदाच्या दिशेने वाहत असतात .\n\n“मि', जी अजूनही एका लहान मुलीएवढीच दिसते ती एका दिव्यावर 'माझे वडिल' व दुस-यावर 'एक\n3 व लिहिते वर *_ ० झालेली न *_ \"1 ८७१ दवे\nपक्षी असे लिहिते . तिची आता केस पांढरे झालेली आई दु$खद अंत४करणाने 'मि' ते दिवे नदीच्या\n६\n\nपात्रात सोडत असताना पाहाते . “हे परत घडणार नाही” ती पुटपुटते . “जर कोणी परत अणुबॉम्ब\nटाकला नाही तर”\n\f\n\n# Page 5\n\nया पुस्तकाविषयी थोडेसे\n\n१९५३ मध्ये मी अणुबॉम्बविषयक चित्रांचे गेनेवेके नो झू' या नावाचे जपानमधील हिक्‍्काइडो येथे एक\nप्रदर्शन आयोजित केले होते . प्रदर्शन पाहायला जमलेल्या लोकांमध्ये माझ्या चित्रांकडे रागाने पाहाणारी\nएक स्त्री मला दिसली . काही वेळाने ती घोळक्यातून बाहेर येऊन माझ्याशी बोलू लागली .\n\nती म्हणाली , मी या प्रदर्शनाला भेट देण्यासाठी आले कारण मला वाटले तुम्ही अणुवॉम्वच्या यातना\n\nजाणवतील असे प्रदर्शन मांडले आहे . मी आत यायचे नाही असे आधी पक्के ठरविले होते .पण आता\nतुमची चित्रे पाहिल्यानंतर मी तुम्हाला माझी कथा सांगू इच्छिते .\n\nवॉम्वस्फोटानंतर मी हिक्काइडोला स्थायिक झाले . येथील लोकांना माझ्यावद्दल दया किंवा सहानुभूति\nवाटत नाही .मी वॉम्वहल्ल्यावद्दल वोलायला लागले की अतिरंजित गोष्टी सांगून त्यांची दया\nमिळविण्याचा प्रयत्न करते असे त्यांना वाटते . यामुळे मी आता तो विषयच वंद केला आहे . हे वोलून\n\nत्या महिलेने क्षणभर डोळे मिटले . नंतर ती ध्वनिवर्धकापाशी गेली व अक्षरश&$ ओरडून बोलू लागली .\n\n \n\nआत्ता येथे जे लोक जमले आहेत ते माझ्यावर विश्‍वास ठेवतील अशी आशा आहे . कृपया माझे म्हणणे\nऐकून घ्या . माझ्यावर विश्‍वास ठेवा. आणि रडत , अडखळत तिने तिची कथा सांगायला सुरूवात\nकेली.\n\nवॉम्वहल्ल्यातून सुटकेचा केलेला प्रयत्न, नव-याला पाठीवर आणि मुलीला हाताशी धरून ओलांडलेल्या\nनदया हे सर्व ती सांगत राहिली . लोक ऐकत होते . काही रडत होते . तिचे सांगून झाल्यावर ती फक्त\nएवढेच म्हणाली 'माझ म्हणणे ऐकून घेतल्यावद्दल आभारी आहे . '\n\nहृदय हेलावून टाकणारा तो प्रसंग माझ्या नजरेसमोर नंतर तसाच राहिला . हे पुस्तक त्या महिलेच्या कथेवर\nआधारित आहे . त्यात काही ठिकाणी इतर लोकांनी सांगितलेल्या अणुबॉम्बच्या प्रसंगांचे धागे गुंफलेले\nआहेत .\n\nमी आता सत्तरी ओलांडली आहे .मला स्वत$ला मुले नातवंडे नाहीत .पण जगभरातल्या नातवंडांसाठी मी\nही कथा लिहिली आहे . मला ती पूर्ण करायला खूप वेळ लागला कारण घडून गेलेल्या वाइट\nघटनांबद्दल नवीन पिढीला कसे सांगावे हा प्रश्‍न होता .\n\nमी माझ्या प्रकाशकांचे व चिवा वंधूंचे त्यांनी दिलेल्या प्रोत्साहनावद्दल आभार मानतो . माझ्या सर्व\nमित्रांचाही मी आभारी आहे .\n\nतोशी मारूकी\n\f\n\n"
                },
                "metadata": {}
              }
            ]
          }
        },
        "efbe33565a4c4910a4fcba7e679968e0": {
          "model_module": "@jupyter-widgets/base",
          "model_name": "LayoutModel",
          "model_module_version": "1.2.0",
          "state": {
            "_model_module": "@jupyter-widgets/base",
            "_model_module_version": "1.2.0",
            "_model_name": "LayoutModel",
            "_view_count": null,
            "_view_module": "@jupyter-widgets/base",
            "_view_module_version": "1.2.0",
            "_view_name": "LayoutView",
            "align_content": null,
            "align_items": null,
            "align_self": null,
            "border": null,
            "bottom": null,
            "display": null,
            "flex": null,
            "flex_flow": null,
            "grid_area": null,
            "grid_auto_columns": null,
            "grid_auto_flow": null,
            "grid_auto_rows": null,
            "grid_column": null,
            "grid_gap": null,
            "grid_row": null,
            "grid_template_areas": null,
            "grid_template_columns": null,
            "grid_template_rows": null,
            "height": null,
            "justify_content": null,
            "justify_items": null,
            "left": null,
            "margin": null,
            "max_height": null,
            "max_width": null,
            "min_height": null,
            "min_width": null,
            "object_fit": null,
            "object_position": null,
            "order": null,
            "overflow": null,
            "overflow_x": null,
            "overflow_y": null,
            "padding": null,
            "right": null,
            "top": null,
            "visibility": null,
            "width": null
          }
        },
        "02436962952f44cdb39f832616c479a1": {
          "model_module": "@jupyter-widgets/controls",
          "model_name": "ImageModel",
          "model_module_version": "1.5.0",
          "state": {
            "_dom_classes": [],
            "_model_module": "@jupyter-widgets/controls",
            "_model_module_version": "1.5.0",
            "_model_name": "ImageModel",
            "_view_count": null,
            "_view_module": "@jupyter-widgets/controls",
            "_view_module_version": "1.5.0",
            "_view_name": "ImageView",
            "format": "png",
            "height": "",
            "layout": "IPY_MODEL_e6354972d3704d88850461044c5f7d8c",
            "width": ""
          }
        },
        "067800c7e2354db297deccfe3097ee2a": {
          "model_module": "@jupyter-widgets/controls",
          "model_name": "ImageModel",
          "model_module_version": "1.5.0",
          "state": {
            "_dom_classes": [],
            "_model_module": "@jupyter-widgets/controls",
            "_model_module_version": "1.5.0",
            "_model_name": "ImageModel",
            "_view_count": null,
            "_view_module": "@jupyter-widgets/controls",
            "_view_module_version": "1.5.0",
            "_view_name": "ImageView",
            "format": "png",
            "height": "",
            "layout": "IPY_MODEL_dd9ca93453994fb78dac9d91e17064eb",
            "width": ""
          }
        },
        "09a8e7030d3b474596c96667ef5ecf3c": {
          "model_module": "@jupyter-widgets/controls",
          "model_name": "ImageModel",
          "model_module_version": "1.5.0",
          "state": {
            "_dom_classes": [],
            "_model_module": "@jupyter-widgets/controls",
            "_model_module_version": "1.5.0",
            "_model_name": "ImageModel",
            "_view_count": null,
            "_view_module": "@jupyter-widgets/controls",
            "_view_module_version": "1.5.0",
            "_view_name": "ImageView",
            "format": "png",
            "height": "",
            "layout": "IPY_MODEL_9f29853c06834668b2400744170aadf1",
            "width": ""
          }
        },
        "36b2f92b8d354e1f8e924af2490a14e0": {
          "model_module": "@jupyter-widgets/controls",
          "model_name": "ImageModel",
          "model_module_version": "1.5.0",
          "state": {
            "_dom_classes": [],
            "_model_module": "@jupyter-widgets/controls",
            "_model_module_version": "1.5.0",
            "_model_name": "ImageModel",
            "_view_count": null,
            "_view_module": "@jupyter-widgets/controls",
            "_view_module_version": "1.5.0",
            "_view_name": "ImageView",
            "format": "png",
            "height": "",
            "layout": "IPY_MODEL_d148a43773f84a9cafa435d3df045d0c",
            "width": ""
          }
        },
        "5023b675567e4bd4aec3a3c78bbc7de5": {
          "model_module": "@jupyter-widgets/controls",
          "model_name": "ImageModel",
          "model_module_version": "1.5.0",
          "state": {
            "_dom_classes": [],
            "_model_module": "@jupyter-widgets/controls",
            "_model_module_version": "1.5.0",
            "_model_name": "ImageModel",
            "_view_count": null,
            "_view_module": "@jupyter-widgets/controls",
            "_view_module_version": "1.5.0",
            "_view_name": "ImageView",
            "format": "png",
            "height": "",
            "layout": "IPY_MODEL_ed6cc820a60249caad67465a59856b12",
            "width": ""
          }
        },
        "38e83548ea7444039635682769652d1c": {
          "model_module": "@jupyter-widgets/base",
          "model_name": "LayoutModel",
          "model_module_version": "1.2.0",
          "state": {
            "_model_module": "@jupyter-widgets/base",
            "_model_module_version": "1.2.0",
            "_model_name": "LayoutModel",
            "_view_count": null,
            "_view_module": "@jupyter-widgets/base",
            "_view_module_version": "1.2.0",
            "_view_name": "LayoutView",
            "align_content": null,
            "align_items": null,
            "align_self": null,
            "border": null,
            "bottom": null,
            "display": null,
            "flex": null,
            "flex_flow": null,
            "grid_area": null,
            "grid_auto_columns": null,
            "grid_auto_flow": null,
            "grid_auto_rows": null,
            "grid_column": null,
            "grid_gap": null,
            "grid_row": null,
            "grid_template_areas": null,
            "grid_template_columns": null,
            "grid_template_rows": null,
            "height": null,
            "justify_content": null,
            "justify_items": null,
            "left": null,
            "margin": null,
            "max_height": null,
            "max_width": null,
            "min_height": null,
            "min_width": null,
            "object_fit": null,
            "object_position": null,
            "order": null,
            "overflow": null,
            "overflow_x": null,
            "overflow_y": null,
            "padding": null,
            "right": null,
            "top": null,
            "visibility": null,
            "width": null
          }
        },
        "e6354972d3704d88850461044c5f7d8c": {
          "model_module": "@jupyter-widgets/base",
          "model_name": "LayoutModel",
          "model_module_version": "1.2.0",
          "state": {
            "_model_module": "@jupyter-widgets/base",
            "_model_module_version": "1.2.0",
            "_model_name": "LayoutModel",
            "_view_count": null,
            "_view_module": "@jupyter-widgets/base",
            "_view_module_version": "1.2.0",
            "_view_name": "LayoutView",
            "align_content": null,
            "align_items": null,
            "align_self": null,
            "border": null,
            "bottom": null,
            "display": null,
            "flex": null,
            "flex_flow": null,
            "grid_area": null,
            "grid_auto_columns": null,
            "grid_auto_flow": null,
            "grid_auto_rows": null,
            "grid_column": null,
            "grid_gap": null,
            "grid_row": null,
            "grid_template_areas": null,
            "grid_template_columns": null,
            "grid_template_rows": null,
            "height": null,
            "justify_content": null,
            "justify_items": null,
            "left": null,
            "margin": null,
            "max_height": null,
            "max_width": null,
            "min_height": null,
            "min_width": null,
            "object_fit": null,
            "object_position": null,
            "order": null,
            "overflow": null,
            "overflow_x": null,
            "overflow_y": null,
            "padding": null,
            "right": null,
            "top": null,
            "visibility": null,
            "width": null
          }
        },
        "dd9ca93453994fb78dac9d91e17064eb": {
          "model_module": "@jupyter-widgets/base",
          "model_name": "LayoutModel",
          "model_module_version": "1.2.0",
          "state": {
            "_model_module": "@jupyter-widgets/base",
            "_model_module_version": "1.2.0",
            "_model_name": "LayoutModel",
            "_view_count": null,
            "_view_module": "@jupyter-widgets/base",
            "_view_module_version": "1.2.0",
            "_view_name": "LayoutView",
            "align_content": null,
            "align_items": null,
            "align_self": null,
            "border": null,
            "bottom": null,
            "display": null,
            "flex": null,
            "flex_flow": null,
            "grid_area": null,
            "grid_auto_columns": null,
            "grid_auto_flow": null,
            "grid_auto_rows": null,
            "grid_column": null,
            "grid_gap": null,
            "grid_row": null,
            "grid_template_areas": null,
            "grid_template_columns": null,
            "grid_template_rows": null,
            "height": null,
            "justify_content": null,
            "justify_items": null,
            "left": null,
            "margin": null,
            "max_height": null,
            "max_width": null,
            "min_height": null,
            "min_width": null,
            "object_fit": null,
            "object_position": null,
            "order": null,
            "overflow": null,
            "overflow_x": null,
            "overflow_y": null,
            "padding": null,
            "right": null,
            "top": null,
            "visibility": null,
            "width": null
          }
        },
        "9f29853c06834668b2400744170aadf1": {
          "model_module": "@jupyter-widgets/base",
          "model_name": "LayoutModel",
          "model_module_version": "1.2.0",
          "state": {
            "_model_module": "@jupyter-widgets/base",
            "_model_module_version": "1.2.0",
            "_model_name": "LayoutModel",
            "_view_count": null,
            "_view_module": "@jupyter-widgets/base",
            "_view_module_version": "1.2.0",
            "_view_name": "LayoutView",
            "align_content": null,
            "align_items": null,
            "align_self": null,
            "border": null,
            "bottom": null,
            "display": null,
            "flex": null,
            "flex_flow": null,
            "grid_area": null,
            "grid_auto_columns": null,
            "grid_auto_flow": null,
            "grid_auto_rows": null,
            "grid_column": null,
            "grid_gap": null,
            "grid_row": null,
            "grid_template_areas": null,
            "grid_template_columns": null,
            "grid_template_rows": null,
            "height": null,
            "justify_content": null,
            "justify_items": null,
            "left": null,
            "margin": null,
            "max_height": null,
            "max_width": null,
            "min_height": null,
            "min_width": null,
            "object_fit": null,
            "object_position": null,
            "order": null,
            "overflow": null,
            "overflow_x": null,
            "overflow_y": null,
            "padding": null,
            "right": null,
            "top": null,
            "visibility": null,
            "width": null
          }
        },
        "d148a43773f84a9cafa435d3df045d0c": {
          "model_module": "@jupyter-widgets/base",
          "model_name": "LayoutModel",
          "model_module_version": "1.2.0",
          "state": {
            "_model_module": "@jupyter-widgets/base",
            "_model_module_version": "1.2.0",
            "_model_name": "LayoutModel",
            "_view_count": null,
            "_view_module": "@jupyter-widgets/base",
            "_view_module_version": "1.2.0",
            "_view_name": "LayoutView",
            "align_content": null,
            "align_items": null,
            "align_self": null,
            "border": null,
            "bottom": null,
            "display": null,
            "flex": null,
            "flex_flow": null,
            "grid_area": null,
            "grid_auto_columns": null,
            "grid_auto_flow": null,
            "grid_auto_rows": null,
            "grid_column": null,
            "grid_gap": null,
            "grid_row": null,
            "grid_template_areas": null,
            "grid_template_columns": null,
            "grid_template_rows": null,
            "height": null,
            "justify_content": null,
            "justify_items": null,
            "left": null,
            "margin": null,
            "max_height": null,
            "max_width": null,
            "min_height": null,
            "min_width": null,
            "object_fit": null,
            "object_position": null,
            "order": null,
            "overflow": null,
            "overflow_x": null,
            "overflow_y": null,
            "padding": null,
            "right": null,
            "top": null,
            "visibility": null,
            "width": null
          }
        },
        "ed6cc820a60249caad67465a59856b12": {
          "model_module": "@jupyter-widgets/base",
          "model_name": "LayoutModel",
          "model_module_version": "1.2.0",
          "state": {
            "_model_module": "@jupyter-widgets/base",
            "_model_module_version": "1.2.0",
            "_model_name": "LayoutModel",
            "_view_count": null,
            "_view_module": "@jupyter-widgets/base",
            "_view_module_version": "1.2.0",
            "_view_name": "LayoutView",
            "align_content": null,
            "align_items": null,
            "align_self": null,
            "border": null,
            "bottom": null,
            "display": null,
            "flex": null,
            "flex_flow": null,
            "grid_area": null,
            "grid_auto_columns": null,
            "grid_auto_flow": null,
            "grid_auto_rows": null,
            "grid_column": null,
            "grid_gap": null,
            "grid_row": null,
            "grid_template_areas": null,
            "grid_template_columns": null,
            "grid_template_rows": null,
            "height": null,
            "justify_content": null,
            "justify_items": null,
            "left": null,
            "margin": null,
            "max_height": null,
            "max_width": null,
            "min_height": null,
            "min_width": null,
            "object_fit": null,
            "object_position": null,
            "order": null,
            "overflow": null,
            "overflow_x": null,
            "overflow_y": null,
            "padding": null,
            "right": null,
            "top": null,
            "visibility": null,
            "width": null
          }
        },
        "fcf3e90c59be48d59a5d8276a57b805a": {
          "model_module": "@jupyter-widgets/base",
          "model_name": "LayoutModel",
          "model_module_version": "1.2.0",
          "state": {
            "_model_module": "@jupyter-widgets/base",
            "_model_module_version": "1.2.0",
            "_model_name": "LayoutModel",
            "_view_count": null,
            "_view_module": "@jupyter-widgets/base",
            "_view_module_version": "1.2.0",
            "_view_name": "LayoutView",
            "align_content": null,
            "align_items": null,
            "align_self": null,
            "border": null,
            "bottom": null,
            "display": null,
            "flex": null,
            "flex_flow": null,
            "grid_area": null,
            "grid_auto_columns": null,
            "grid_auto_flow": null,
            "grid_auto_rows": null,
            "grid_column": null,
            "grid_gap": null,
            "grid_row": null,
            "grid_template_areas": null,
            "grid_template_columns": null,
            "grid_template_rows": null,
            "height": null,
            "justify_content": null,
            "justify_items": null,
            "left": null,
            "margin": null,
            "max_height": null,
            "max_width": null,
            "min_height": null,
            "min_width": null,
            "object_fit": null,
            "object_position": null,
            "order": null,
            "overflow": null,
            "overflow_x": null,
            "overflow_y": null,
            "padding": null,
            "right": null,
            "top": null,
            "visibility": null,
            "width": null
          }
        },
        "415ef13e30e94683969a4a1766247be1": {
          "model_module": "@jupyter-widgets/controls",
          "model_name": "HBoxModel",
          "model_module_version": "1.5.0",
          "state": {
            "_dom_classes": [],
            "_model_module": "@jupyter-widgets/controls",
            "_model_module_version": "1.5.0",
            "_model_name": "HBoxModel",
            "_view_count": null,
            "_view_module": "@jupyter-widgets/controls",
            "_view_module_version": "1.5.0",
            "_view_name": "HBoxView",
            "box_style": "",
            "children": [
              "IPY_MODEL_4481517a2dfd47678ecfeaf970d9168b",
              "IPY_MODEL_3d30e76b11864d229a2e18618615f611",
              "IPY_MODEL_c522f5e4052e42caa9a7f17cfc5bac5a"
            ],
            "layout": "IPY_MODEL_e2dcc4a4c7ed4be0afd97e5e6a65126c"
          }
        },
        "4481517a2dfd47678ecfeaf970d9168b": {
          "model_module": "@jupyter-widgets/controls",
          "model_name": "HTMLModel",
          "model_module_version": "1.5.0",
          "state": {
            "_dom_classes": [],
            "_model_module": "@jupyter-widgets/controls",
            "_model_module_version": "1.5.0",
            "_model_name": "HTMLModel",
            "_view_count": null,
            "_view_module": "@jupyter-widgets/controls",
            "_view_module_version": "1.5.0",
            "_view_name": "HTMLView",
            "description": "",
            "description_tooltip": null,
            "layout": "IPY_MODEL_713314de56994ba195bb3005e3110db9",
            "placeholder": "​",
            "style": "IPY_MODEL_1785dd44f1b0463192b301e81341d492",
            "value": "Loading checkpoint shards: 100%"
          }
        },
        "3d30e76b11864d229a2e18618615f611": {
          "model_module": "@jupyter-widgets/controls",
          "model_name": "FloatProgressModel",
          "model_module_version": "1.5.0",
          "state": {
            "_dom_classes": [],
            "_model_module": "@jupyter-widgets/controls",
            "_model_module_version": "1.5.0",
            "_model_name": "FloatProgressModel",
            "_view_count": null,
            "_view_module": "@jupyter-widgets/controls",
            "_view_module_version": "1.5.0",
            "_view_name": "ProgressView",
            "bar_style": "success",
            "description": "",
            "description_tooltip": null,
            "layout": "IPY_MODEL_8ebffb66456844a7b3e3f8a4d3803042",
            "max": 3,
            "min": 0,
            "orientation": "horizontal",
            "style": "IPY_MODEL_799687b17b094337ad0eb1bd8b8d70c6",
            "value": 3
          }
        },
        "c522f5e4052e42caa9a7f17cfc5bac5a": {
          "model_module": "@jupyter-widgets/controls",
          "model_name": "HTMLModel",
          "model_module_version": "1.5.0",
          "state": {
            "_dom_classes": [],
            "_model_module": "@jupyter-widgets/controls",
            "_model_module_version": "1.5.0",
            "_model_name": "HTMLModel",
            "_view_count": null,
            "_view_module": "@jupyter-widgets/controls",
            "_view_module_version": "1.5.0",
            "_view_name": "HTMLView",
            "description": "",
            "description_tooltip": null,
            "layout": "IPY_MODEL_f9df6163acd3483698df28ab3a07d37b",
            "placeholder": "​",
            "style": "IPY_MODEL_084351e431b448848ec54b94cd8aea10",
            "value": " 3/3 [00:57&lt;00:00, 15.74s/it]"
          }
        },
        "e2dcc4a4c7ed4be0afd97e5e6a65126c": {
          "model_module": "@jupyter-widgets/base",
          "model_name": "LayoutModel",
          "model_module_version": "1.2.0",
          "state": {
            "_model_module": "@jupyter-widgets/base",
            "_model_module_version": "1.2.0",
            "_model_name": "LayoutModel",
            "_view_count": null,
            "_view_module": "@jupyter-widgets/base",
            "_view_module_version": "1.2.0",
            "_view_name": "LayoutView",
            "align_content": null,
            "align_items": null,
            "align_self": null,
            "border": null,
            "bottom": null,
            "display": null,
            "flex": null,
            "flex_flow": null,
            "grid_area": null,
            "grid_auto_columns": null,
            "grid_auto_flow": null,
            "grid_auto_rows": null,
            "grid_column": null,
            "grid_gap": null,
            "grid_row": null,
            "grid_template_areas": null,
            "grid_template_columns": null,
            "grid_template_rows": null,
            "height": null,
            "justify_content": null,
            "justify_items": null,
            "left": null,
            "margin": null,
            "max_height": null,
            "max_width": null,
            "min_height": null,
            "min_width": null,
            "object_fit": null,
            "object_position": null,
            "order": null,
            "overflow": null,
            "overflow_x": null,
            "overflow_y": null,
            "padding": null,
            "right": null,
            "top": null,
            "visibility": null,
            "width": null
          }
        },
        "713314de56994ba195bb3005e3110db9": {
          "model_module": "@jupyter-widgets/base",
          "model_name": "LayoutModel",
          "model_module_version": "1.2.0",
          "state": {
            "_model_module": "@jupyter-widgets/base",
            "_model_module_version": "1.2.0",
            "_model_name": "LayoutModel",
            "_view_count": null,
            "_view_module": "@jupyter-widgets/base",
            "_view_module_version": "1.2.0",
            "_view_name": "LayoutView",
            "align_content": null,
            "align_items": null,
            "align_self": null,
            "border": null,
            "bottom": null,
            "display": null,
            "flex": null,
            "flex_flow": null,
            "grid_area": null,
            "grid_auto_columns": null,
            "grid_auto_flow": null,
            "grid_auto_rows": null,
            "grid_column": null,
            "grid_gap": null,
            "grid_row": null,
            "grid_template_areas": null,
            "grid_template_columns": null,
            "grid_template_rows": null,
            "height": null,
            "justify_content": null,
            "justify_items": null,
            "left": null,
            "margin": null,
            "max_height": null,
            "max_width": null,
            "min_height": null,
            "min_width": null,
            "object_fit": null,
            "object_position": null,
            "order": null,
            "overflow": null,
            "overflow_x": null,
            "overflow_y": null,
            "padding": null,
            "right": null,
            "top": null,
            "visibility": null,
            "width": null
          }
        },
        "1785dd44f1b0463192b301e81341d492": {
          "model_module": "@jupyter-widgets/controls",
          "model_name": "DescriptionStyleModel",
          "model_module_version": "1.5.0",
          "state": {
            "_model_module": "@jupyter-widgets/controls",
            "_model_module_version": "1.5.0",
            "_model_name": "DescriptionStyleModel",
            "_view_count": null,
            "_view_module": "@jupyter-widgets/base",
            "_view_module_version": "1.2.0",
            "_view_name": "StyleView",
            "description_width": ""
          }
        },
        "8ebffb66456844a7b3e3f8a4d3803042": {
          "model_module": "@jupyter-widgets/base",
          "model_name": "LayoutModel",
          "model_module_version": "1.2.0",
          "state": {
            "_model_module": "@jupyter-widgets/base",
            "_model_module_version": "1.2.0",
            "_model_name": "LayoutModel",
            "_view_count": null,
            "_view_module": "@jupyter-widgets/base",
            "_view_module_version": "1.2.0",
            "_view_name": "LayoutView",
            "align_content": null,
            "align_items": null,
            "align_self": null,
            "border": null,
            "bottom": null,
            "display": null,
            "flex": null,
            "flex_flow": null,
            "grid_area": null,
            "grid_auto_columns": null,
            "grid_auto_flow": null,
            "grid_auto_rows": null,
            "grid_column": null,
            "grid_gap": null,
            "grid_row": null,
            "grid_template_areas": null,
            "grid_template_columns": null,
            "grid_template_rows": null,
            "height": null,
            "justify_content": null,
            "justify_items": null,
            "left": null,
            "margin": null,
            "max_height": null,
            "max_width": null,
            "min_height": null,
            "min_width": null,
            "object_fit": null,
            "object_position": null,
            "order": null,
            "overflow": null,
            "overflow_x": null,
            "overflow_y": null,
            "padding": null,
            "right": null,
            "top": null,
            "visibility": null,
            "width": null
          }
        },
        "799687b17b094337ad0eb1bd8b8d70c6": {
          "model_module": "@jupyter-widgets/controls",
          "model_name": "ProgressStyleModel",
          "model_module_version": "1.5.0",
          "state": {
            "_model_module": "@jupyter-widgets/controls",
            "_model_module_version": "1.5.0",
            "_model_name": "ProgressStyleModel",
            "_view_count": null,
            "_view_module": "@jupyter-widgets/base",
            "_view_module_version": "1.2.0",
            "_view_name": "StyleView",
            "bar_color": null,
            "description_width": ""
          }
        },
        "f9df6163acd3483698df28ab3a07d37b": {
          "model_module": "@jupyter-widgets/base",
          "model_name": "LayoutModel",
          "model_module_version": "1.2.0",
          "state": {
            "_model_module": "@jupyter-widgets/base",
            "_model_module_version": "1.2.0",
            "_model_name": "LayoutModel",
            "_view_count": null,
            "_view_module": "@jupyter-widgets/base",
            "_view_module_version": "1.2.0",
            "_view_name": "LayoutView",
            "align_content": null,
            "align_items": null,
            "align_self": null,
            "border": null,
            "bottom": null,
            "display": null,
            "flex": null,
            "flex_flow": null,
            "grid_area": null,
            "grid_auto_columns": null,
            "grid_auto_flow": null,
            "grid_auto_rows": null,
            "grid_column": null,
            "grid_gap": null,
            "grid_row": null,
            "grid_template_areas": null,
            "grid_template_columns": null,
            "grid_template_rows": null,
            "height": null,
            "justify_content": null,
            "justify_items": null,
            "left": null,
            "margin": null,
            "max_height": null,
            "max_width": null,
            "min_height": null,
            "min_width": null,
            "object_fit": null,
            "object_position": null,
            "order": null,
            "overflow": null,
            "overflow_x": null,
            "overflow_y": null,
            "padding": null,
            "right": null,
            "top": null,
            "visibility": null,
            "width": null
          }
        },
        "084351e431b448848ec54b94cd8aea10": {
          "model_module": "@jupyter-widgets/controls",
          "model_name": "DescriptionStyleModel",
          "model_module_version": "1.5.0",
          "state": {
            "_model_module": "@jupyter-widgets/controls",
            "_model_module_version": "1.5.0",
            "_model_name": "DescriptionStyleModel",
            "_view_count": null,
            "_view_module": "@jupyter-widgets/base",
            "_view_module_version": "1.2.0",
            "_view_name": "StyleView",
            "description_width": ""
          }
        }
      }
    }
  },
  "cells": [
    {
      "cell_type": "code",
      "source": [
        "# !pip install llama-cpp-python"
      ],
      "metadata": {
        "id": "u1sFPdRiqG7F"
      },
      "execution_count": null,
      "outputs": []
    },
    {
      "cell_type": "code",
      "source": [
        "# !pip install transformers einops accelerate bitsandbytes\n",
        "# !pip install accelerate\n",
        "# !pip install -q torch transformers transformers accelerate bitsandbytes"
      ],
      "metadata": {
        "id": "-8Geytd4qHBH",
        "colab": {
          "base_uri": "https://localhost:8080/"
        },
        "outputId": "92ca2808-6ba4-4554-98aa-ba8282573d36"
      },
      "execution_count": 25,
      "outputs": [
        {
          "output_type": "stream",
          "name": "stdout",
          "text": [
            "Requirement already satisfied: accelerate in /usr/local/lib/python3.10/dist-packages (0.29.1)\n",
            "Requirement already satisfied: numpy>=1.17 in /usr/local/lib/python3.10/dist-packages (from accelerate) (1.25.2)\n",
            "Requirement already satisfied: packaging>=20.0 in /usr/local/lib/python3.10/dist-packages (from accelerate) (24.0)\n",
            "Requirement already satisfied: psutil in /usr/local/lib/python3.10/dist-packages (from accelerate) (5.9.5)\n",
            "Requirement already satisfied: pyyaml in /usr/local/lib/python3.10/dist-packages (from accelerate) (6.0.1)\n",
            "Requirement already satisfied: torch>=1.10.0 in /usr/local/lib/python3.10/dist-packages (from accelerate) (2.2.1+cu121)\n",
            "Requirement already satisfied: huggingface-hub in /usr/local/lib/python3.10/dist-packages (from accelerate) (0.20.3)\n",
            "Requirement already satisfied: safetensors>=0.3.1 in /usr/local/lib/python3.10/dist-packages (from accelerate) (0.4.2)\n",
            "Requirement already satisfied: filelock in /usr/local/lib/python3.10/dist-packages (from torch>=1.10.0->accelerate) (3.13.3)\n",
            "Requirement already satisfied: typing-extensions>=4.8.0 in /usr/local/lib/python3.10/dist-packages (from torch>=1.10.0->accelerate) (4.10.0)\n",
            "Requirement already satisfied: sympy in /usr/local/lib/python3.10/dist-packages (from torch>=1.10.0->accelerate) (1.12)\n",
            "Requirement already satisfied: networkx in /usr/local/lib/python3.10/dist-packages (from torch>=1.10.0->accelerate) (3.2.1)\n",
            "Requirement already satisfied: jinja2 in /usr/local/lib/python3.10/dist-packages (from torch>=1.10.0->accelerate) (3.1.3)\n",
            "Requirement already satisfied: fsspec in /usr/local/lib/python3.10/dist-packages (from torch>=1.10.0->accelerate) (2023.6.0)\n",
            "Requirement already satisfied: nvidia-cuda-nvrtc-cu12==12.1.105 in /usr/local/lib/python3.10/dist-packages (from torch>=1.10.0->accelerate) (12.1.105)\n",
            "Requirement already satisfied: nvidia-cuda-runtime-cu12==12.1.105 in /usr/local/lib/python3.10/dist-packages (from torch>=1.10.0->accelerate) (12.1.105)\n",
            "Requirement already satisfied: nvidia-cuda-cupti-cu12==12.1.105 in /usr/local/lib/python3.10/dist-packages (from torch>=1.10.0->accelerate) (12.1.105)\n",
            "Requirement already satisfied: nvidia-cudnn-cu12==8.9.2.26 in /usr/local/lib/python3.10/dist-packages (from torch>=1.10.0->accelerate) (8.9.2.26)\n",
            "Requirement already satisfied: nvidia-cublas-cu12==12.1.3.1 in /usr/local/lib/python3.10/dist-packages (from torch>=1.10.0->accelerate) (12.1.3.1)\n",
            "Requirement already satisfied: nvidia-cufft-cu12==11.0.2.54 in /usr/local/lib/python3.10/dist-packages (from torch>=1.10.0->accelerate) (11.0.2.54)\n",
            "Requirement already satisfied: nvidia-curand-cu12==10.3.2.106 in /usr/local/lib/python3.10/dist-packages (from torch>=1.10.0->accelerate) (10.3.2.106)\n",
            "Requirement already satisfied: nvidia-cusolver-cu12==11.4.5.107 in /usr/local/lib/python3.10/dist-packages (from torch>=1.10.0->accelerate) (11.4.5.107)\n",
            "Requirement already satisfied: nvidia-cusparse-cu12==12.1.0.106 in /usr/local/lib/python3.10/dist-packages (from torch>=1.10.0->accelerate) (12.1.0.106)\n",
            "Requirement already satisfied: nvidia-nccl-cu12==2.19.3 in /usr/local/lib/python3.10/dist-packages (from torch>=1.10.0->accelerate) (2.19.3)\n",
            "Requirement already satisfied: nvidia-nvtx-cu12==12.1.105 in /usr/local/lib/python3.10/dist-packages (from torch>=1.10.0->accelerate) (12.1.105)\n",
            "Requirement already satisfied: triton==2.2.0 in /usr/local/lib/python3.10/dist-packages (from torch>=1.10.0->accelerate) (2.2.0)\n",
            "Requirement already satisfied: nvidia-nvjitlink-cu12 in /usr/local/lib/python3.10/dist-packages (from nvidia-cusolver-cu12==11.4.5.107->torch>=1.10.0->accelerate) (12.4.127)\n",
            "Requirement already satisfied: requests in /usr/local/lib/python3.10/dist-packages (from huggingface-hub->accelerate) (2.31.0)\n",
            "Requirement already satisfied: tqdm>=4.42.1 in /usr/local/lib/python3.10/dist-packages (from huggingface-hub->accelerate) (4.66.2)\n",
            "Requirement already satisfied: MarkupSafe>=2.0 in /usr/local/lib/python3.10/dist-packages (from jinja2->torch>=1.10.0->accelerate) (2.1.5)\n",
            "Requirement already satisfied: charset-normalizer<4,>=2 in /usr/local/lib/python3.10/dist-packages (from requests->huggingface-hub->accelerate) (3.3.2)\n",
            "Requirement already satisfied: idna<4,>=2.5 in /usr/local/lib/python3.10/dist-packages (from requests->huggingface-hub->accelerate) (3.6)\n",
            "Requirement already satisfied: urllib3<3,>=1.21.1 in /usr/local/lib/python3.10/dist-packages (from requests->huggingface-hub->accelerate) (2.0.7)\n",
            "Requirement already satisfied: certifi>=2017.4.17 in /usr/local/lib/python3.10/dist-packages (from requests->huggingface-hub->accelerate) (2024.2.2)\n",
            "Requirement already satisfied: mpmath>=0.19 in /usr/local/lib/python3.10/dist-packages (from sympy->torch>=1.10.0->accelerate) (1.3.0)\n"
          ]
        }
      ]
    },
    {
      "cell_type": "code",
      "source": [
        "import locale\n",
        "locale.getpreferredencoding = lambda: \"UTF-8\""
      ],
      "metadata": {
        "id": "g1VbVwVfwcvd"
      },
      "execution_count": null,
      "outputs": []
    },
    {
      "cell_type": "code",
      "source": [
        "!pip install llama-index-llms-huggingface"
      ],
      "metadata": {
        "id": "kzuh6ex1wcyW",
        "colab": {
          "base_uri": "https://localhost:8080/"
        },
        "outputId": "4d210973-5341-4391-dce1-6df6bad4bb47"
      },
      "execution_count": 15,
      "outputs": [
        {
          "output_type": "stream",
          "name": "stdout",
          "text": [
            "Collecting llama-index-llms-huggingface\n",
            "  Downloading llama_index_llms_huggingface-0.1.4-py3-none-any.whl (7.2 kB)\n",
            "Requirement already satisfied: huggingface-hub<0.21.0,>=0.20.3 in /usr/local/lib/python3.10/dist-packages (from llama-index-llms-huggingface) (0.20.3)\n",
            "Requirement already satisfied: llama-index-core<0.11.0,>=0.10.1 in /usr/local/lib/python3.10/dist-packages (from llama-index-llms-huggingface) (0.10.27)\n",
            "Requirement already satisfied: torch<3.0.0,>=2.1.2 in /usr/local/lib/python3.10/dist-packages (from llama-index-llms-huggingface) (2.2.1+cu121)\n",
            "Requirement already satisfied: transformers[torch]<5.0.0,>=4.37.0 in /usr/local/lib/python3.10/dist-packages (from llama-index-llms-huggingface) (4.38.2)\n",
            "Requirement already satisfied: filelock in /usr/local/lib/python3.10/dist-packages (from huggingface-hub<0.21.0,>=0.20.3->llama-index-llms-huggingface) (3.13.3)\n",
            "Requirement already satisfied: fsspec>=2023.5.0 in /usr/local/lib/python3.10/dist-packages (from huggingface-hub<0.21.0,>=0.20.3->llama-index-llms-huggingface) (2023.6.0)\n",
            "Requirement already satisfied: requests in /usr/local/lib/python3.10/dist-packages (from huggingface-hub<0.21.0,>=0.20.3->llama-index-llms-huggingface) (2.31.0)\n",
            "Requirement already satisfied: tqdm>=4.42.1 in /usr/local/lib/python3.10/dist-packages (from huggingface-hub<0.21.0,>=0.20.3->llama-index-llms-huggingface) (4.66.2)\n",
            "Requirement already satisfied: pyyaml>=5.1 in /usr/local/lib/python3.10/dist-packages (from huggingface-hub<0.21.0,>=0.20.3->llama-index-llms-huggingface) (6.0.1)\n",
            "Requirement already satisfied: typing-extensions>=3.7.4.3 in /usr/local/lib/python3.10/dist-packages (from huggingface-hub<0.21.0,>=0.20.3->llama-index-llms-huggingface) (4.10.0)\n",
            "Requirement already satisfied: packaging>=20.9 in /usr/local/lib/python3.10/dist-packages (from huggingface-hub<0.21.0,>=0.20.3->llama-index-llms-huggingface) (24.0)\n",
            "Requirement already satisfied: SQLAlchemy[asyncio]>=1.4.49 in /usr/local/lib/python3.10/dist-packages (from llama-index-core<0.11.0,>=0.10.1->llama-index-llms-huggingface) (2.0.29)\n",
            "Requirement already satisfied: aiohttp<4.0.0,>=3.8.6 in /usr/local/lib/python3.10/dist-packages (from llama-index-core<0.11.0,>=0.10.1->llama-index-llms-huggingface) (3.9.3)\n",
            "Requirement already satisfied: dataclasses-json in /usr/local/lib/python3.10/dist-packages (from llama-index-core<0.11.0,>=0.10.1->llama-index-llms-huggingface) (0.6.4)\n",
            "Requirement already satisfied: deprecated>=1.2.9.3 in /usr/local/lib/python3.10/dist-packages (from llama-index-core<0.11.0,>=0.10.1->llama-index-llms-huggingface) (1.2.14)\n",
            "Requirement already satisfied: dirtyjson<2.0.0,>=1.0.8 in /usr/local/lib/python3.10/dist-packages (from llama-index-core<0.11.0,>=0.10.1->llama-index-llms-huggingface) (1.0.8)\n",
            "Requirement already satisfied: httpx in /usr/local/lib/python3.10/dist-packages (from llama-index-core<0.11.0,>=0.10.1->llama-index-llms-huggingface) (0.27.0)\n",
            "Requirement already satisfied: llamaindex-py-client<0.2.0,>=0.1.16 in /usr/local/lib/python3.10/dist-packages (from llama-index-core<0.11.0,>=0.10.1->llama-index-llms-huggingface) (0.1.16)\n",
            "Requirement already satisfied: nest-asyncio<2.0.0,>=1.5.8 in /usr/local/lib/python3.10/dist-packages (from llama-index-core<0.11.0,>=0.10.1->llama-index-llms-huggingface) (1.6.0)\n",
            "Requirement already satisfied: networkx>=3.0 in /usr/local/lib/python3.10/dist-packages (from llama-index-core<0.11.0,>=0.10.1->llama-index-llms-huggingface) (3.2.1)\n",
            "Requirement already satisfied: nltk<4.0.0,>=3.8.1 in /usr/local/lib/python3.10/dist-packages (from llama-index-core<0.11.0,>=0.10.1->llama-index-llms-huggingface) (3.8.1)\n",
            "Requirement already satisfied: numpy in /usr/local/lib/python3.10/dist-packages (from llama-index-core<0.11.0,>=0.10.1->llama-index-llms-huggingface) (1.25.2)\n",
            "Requirement already satisfied: openai>=1.1.0 in /usr/local/lib/python3.10/dist-packages (from llama-index-core<0.11.0,>=0.10.1->llama-index-llms-huggingface) (1.16.2)\n",
            "Requirement already satisfied: pandas in /usr/local/lib/python3.10/dist-packages (from llama-index-core<0.11.0,>=0.10.1->llama-index-llms-huggingface) (2.0.3)\n",
            "Requirement already satisfied: pillow>=9.0.0 in /usr/local/lib/python3.10/dist-packages (from llama-index-core<0.11.0,>=0.10.1->llama-index-llms-huggingface) (9.4.0)\n",
            "Requirement already satisfied: tenacity<9.0.0,>=8.2.0 in /usr/local/lib/python3.10/dist-packages (from llama-index-core<0.11.0,>=0.10.1->llama-index-llms-huggingface) (8.2.3)\n",
            "Requirement already satisfied: tiktoken>=0.3.3 in /usr/local/lib/python3.10/dist-packages (from llama-index-core<0.11.0,>=0.10.1->llama-index-llms-huggingface) (0.4.0)\n",
            "Requirement already satisfied: typing-inspect>=0.8.0 in /usr/local/lib/python3.10/dist-packages (from llama-index-core<0.11.0,>=0.10.1->llama-index-llms-huggingface) (0.9.0)\n",
            "Requirement already satisfied: wrapt in /usr/local/lib/python3.10/dist-packages (from llama-index-core<0.11.0,>=0.10.1->llama-index-llms-huggingface) (1.14.1)\n",
            "Requirement already satisfied: sympy in /usr/local/lib/python3.10/dist-packages (from torch<3.0.0,>=2.1.2->llama-index-llms-huggingface) (1.12)\n",
            "Requirement already satisfied: jinja2 in /usr/local/lib/python3.10/dist-packages (from torch<3.0.0,>=2.1.2->llama-index-llms-huggingface) (3.1.3)\n",
            "Collecting nvidia-cuda-nvrtc-cu12==12.1.105 (from torch<3.0.0,>=2.1.2->llama-index-llms-huggingface)\n",
            "  Downloading nvidia_cuda_nvrtc_cu12-12.1.105-py3-none-manylinux1_x86_64.whl (23.7 MB)\n",
            "\u001b[2K     \u001b[90m━━━━━━━━━━━━━━━━━━━━━━━━━━━━━━━━━━━━━━━━\u001b[0m \u001b[32m23.7/23.7 MB\u001b[0m \u001b[31m34.7 MB/s\u001b[0m eta \u001b[36m0:00:00\u001b[0m\n",
            "\u001b[?25hCollecting nvidia-cuda-runtime-cu12==12.1.105 (from torch<3.0.0,>=2.1.2->llama-index-llms-huggingface)\n",
            "  Downloading nvidia_cuda_runtime_cu12-12.1.105-py3-none-manylinux1_x86_64.whl (823 kB)\n",
            "\u001b[2K     \u001b[90m━━━━━━━━━━━━━━━━━━━━━━━━━━━━━━━━━━━━━━━━\u001b[0m \u001b[32m823.6/823.6 kB\u001b[0m \u001b[31m49.5 MB/s\u001b[0m eta \u001b[36m0:00:00\u001b[0m\n",
            "\u001b[?25hCollecting nvidia-cuda-cupti-cu12==12.1.105 (from torch<3.0.0,>=2.1.2->llama-index-llms-huggingface)\n",
            "  Downloading nvidia_cuda_cupti_cu12-12.1.105-py3-none-manylinux1_x86_64.whl (14.1 MB)\n",
            "\u001b[2K     \u001b[90m━━━━━━━━━━━━━━━━━━━━━━━━━━━━━━━━━━━━━━━━\u001b[0m \u001b[32m14.1/14.1 MB\u001b[0m \u001b[31m41.3 MB/s\u001b[0m eta \u001b[36m0:00:00\u001b[0m\n",
            "\u001b[?25hCollecting nvidia-cudnn-cu12==8.9.2.26 (from torch<3.0.0,>=2.1.2->llama-index-llms-huggingface)\n",
            "  Downloading nvidia_cudnn_cu12-8.9.2.26-py3-none-manylinux1_x86_64.whl (731.7 MB)\n",
            "\u001b[2K     \u001b[90m━━━━━━━━━━━━━━━━━━━━━━━━━━━━━━━━━━━━━━━━\u001b[0m \u001b[32m731.7/731.7 MB\u001b[0m \u001b[31m2.3 MB/s\u001b[0m eta \u001b[36m0:00:00\u001b[0m\n",
            "\u001b[?25hCollecting nvidia-cublas-cu12==12.1.3.1 (from torch<3.0.0,>=2.1.2->llama-index-llms-huggingface)\n",
            "  Downloading nvidia_cublas_cu12-12.1.3.1-py3-none-manylinux1_x86_64.whl (410.6 MB)\n",
            "\u001b[2K     \u001b[90m━━━━━━━━━━━━━━━━━━━━━━━━━━━━━━━━━━━━━━━━\u001b[0m \u001b[32m410.6/410.6 MB\u001b[0m \u001b[31m2.8 MB/s\u001b[0m eta \u001b[36m0:00:00\u001b[0m\n",
            "\u001b[?25hCollecting nvidia-cufft-cu12==11.0.2.54 (from torch<3.0.0,>=2.1.2->llama-index-llms-huggingface)\n",
            "  Downloading nvidia_cufft_cu12-11.0.2.54-py3-none-manylinux1_x86_64.whl (121.6 MB)\n",
            "\u001b[2K     \u001b[90m━━━━━━━━━━━━━━━━━━━━━━━━━━━━━━━━━━━━━━━━\u001b[0m \u001b[32m121.6/121.6 MB\u001b[0m \u001b[31m8.4 MB/s\u001b[0m eta \u001b[36m0:00:00\u001b[0m\n",
            "\u001b[?25hCollecting nvidia-curand-cu12==10.3.2.106 (from torch<3.0.0,>=2.1.2->llama-index-llms-huggingface)\n",
            "  Downloading nvidia_curand_cu12-10.3.2.106-py3-none-manylinux1_x86_64.whl (56.5 MB)\n",
            "\u001b[2K     \u001b[90m━━━━━━━━━━━━━━━━━━━━━━━━━━━━━━━━━━━━━━━━\u001b[0m \u001b[32m56.5/56.5 MB\u001b[0m \u001b[31m9.9 MB/s\u001b[0m eta \u001b[36m0:00:00\u001b[0m\n",
            "\u001b[?25hCollecting nvidia-cusolver-cu12==11.4.5.107 (from torch<3.0.0,>=2.1.2->llama-index-llms-huggingface)\n",
            "  Downloading nvidia_cusolver_cu12-11.4.5.107-py3-none-manylinux1_x86_64.whl (124.2 MB)\n",
            "\u001b[2K     \u001b[90m━━━━━━━━━━━━━━━━━━━━━━━━━━━━━━━━━━━━━━━━\u001b[0m \u001b[32m124.2/124.2 MB\u001b[0m \u001b[31m7.9 MB/s\u001b[0m eta \u001b[36m0:00:00\u001b[0m\n",
            "\u001b[?25hCollecting nvidia-cusparse-cu12==12.1.0.106 (from torch<3.0.0,>=2.1.2->llama-index-llms-huggingface)\n",
            "  Downloading nvidia_cusparse_cu12-12.1.0.106-py3-none-manylinux1_x86_64.whl (196.0 MB)\n",
            "\u001b[2K     \u001b[90m━━━━━━━━━━━━━━━━━━━━━━━━━━━━━━━━━━━━━━━━\u001b[0m \u001b[32m196.0/196.0 MB\u001b[0m \u001b[31m7.3 MB/s\u001b[0m eta \u001b[36m0:00:00\u001b[0m\n",
            "\u001b[?25hCollecting nvidia-nccl-cu12==2.19.3 (from torch<3.0.0,>=2.1.2->llama-index-llms-huggingface)\n",
            "  Downloading nvidia_nccl_cu12-2.19.3-py3-none-manylinux1_x86_64.whl (166.0 MB)\n",
            "\u001b[2K     \u001b[90m━━━━━━━━━━━━━━━━━━━━━━━━━━━━━━━━━━━━━━━━\u001b[0m \u001b[32m166.0/166.0 MB\u001b[0m \u001b[31m7.5 MB/s\u001b[0m eta \u001b[36m0:00:00\u001b[0m\n",
            "\u001b[?25hCollecting nvidia-nvtx-cu12==12.1.105 (from torch<3.0.0,>=2.1.2->llama-index-llms-huggingface)\n",
            "  Downloading nvidia_nvtx_cu12-12.1.105-py3-none-manylinux1_x86_64.whl (99 kB)\n",
            "\u001b[2K     \u001b[90m━━━━━━━━━━━━━━━━━━━━━━━━━━━━━━━━━━━━━━━━\u001b[0m \u001b[32m99.1/99.1 kB\u001b[0m \u001b[31m11.0 MB/s\u001b[0m eta \u001b[36m0:00:00\u001b[0m\n",
            "\u001b[?25hRequirement already satisfied: triton==2.2.0 in /usr/local/lib/python3.10/dist-packages (from torch<3.0.0,>=2.1.2->llama-index-llms-huggingface) (2.2.0)\n",
            "Collecting nvidia-nvjitlink-cu12 (from nvidia-cusolver-cu12==11.4.5.107->torch<3.0.0,>=2.1.2->llama-index-llms-huggingface)\n",
            "  Downloading nvidia_nvjitlink_cu12-12.4.127-py3-none-manylinux2014_x86_64.whl (21.1 MB)\n",
            "\u001b[2K     \u001b[90m━━━━━━━━━━━━━━━━━━━━━━━━━━━━━━━━━━━━━━━━\u001b[0m \u001b[32m21.1/21.1 MB\u001b[0m \u001b[31m54.6 MB/s\u001b[0m eta \u001b[36m0:00:00\u001b[0m\n",
            "\u001b[?25hRequirement already satisfied: regex!=2019.12.17 in /usr/local/lib/python3.10/dist-packages (from transformers[torch]<5.0.0,>=4.37.0->llama-index-llms-huggingface) (2023.12.25)\n",
            "Requirement already satisfied: tokenizers<0.19,>=0.14 in /usr/local/lib/python3.10/dist-packages (from transformers[torch]<5.0.0,>=4.37.0->llama-index-llms-huggingface) (0.15.2)\n",
            "Requirement already satisfied: safetensors>=0.4.1 in /usr/local/lib/python3.10/dist-packages (from transformers[torch]<5.0.0,>=4.37.0->llama-index-llms-huggingface) (0.4.2)\n",
            "Collecting accelerate>=0.21.0 (from transformers[torch]<5.0.0,>=4.37.0->llama-index-llms-huggingface)\n",
            "  Downloading accelerate-0.29.1-py3-none-any.whl (297 kB)\n",
            "\u001b[2K     \u001b[90m━━━━━━━━━━━━━━━━━━━━━━━━━━━━━━━━━━━━━━━━\u001b[0m \u001b[32m297.3/297.3 kB\u001b[0m \u001b[31m34.2 MB/s\u001b[0m eta \u001b[36m0:00:00\u001b[0m\n",
            "\u001b[?25hRequirement already satisfied: psutil in /usr/local/lib/python3.10/dist-packages (from accelerate>=0.21.0->transformers[torch]<5.0.0,>=4.37.0->llama-index-llms-huggingface) (5.9.5)\n",
            "Requirement already satisfied: aiosignal>=1.1.2 in /usr/local/lib/python3.10/dist-packages (from aiohttp<4.0.0,>=3.8.6->llama-index-core<0.11.0,>=0.10.1->llama-index-llms-huggingface) (1.3.1)\n",
            "Requirement already satisfied: attrs>=17.3.0 in /usr/local/lib/python3.10/dist-packages (from aiohttp<4.0.0,>=3.8.6->llama-index-core<0.11.0,>=0.10.1->llama-index-llms-huggingface) (23.2.0)\n",
            "Requirement already satisfied: frozenlist>=1.1.1 in /usr/local/lib/python3.10/dist-packages (from aiohttp<4.0.0,>=3.8.6->llama-index-core<0.11.0,>=0.10.1->llama-index-llms-huggingface) (1.4.1)\n",
            "Requirement already satisfied: multidict<7.0,>=4.5 in /usr/local/lib/python3.10/dist-packages (from aiohttp<4.0.0,>=3.8.6->llama-index-core<0.11.0,>=0.10.1->llama-index-llms-huggingface) (6.0.5)\n",
            "Requirement already satisfied: yarl<2.0,>=1.0 in /usr/local/lib/python3.10/dist-packages (from aiohttp<4.0.0,>=3.8.6->llama-index-core<0.11.0,>=0.10.1->llama-index-llms-huggingface) (1.9.4)\n",
            "Requirement already satisfied: async-timeout<5.0,>=4.0 in /usr/local/lib/python3.10/dist-packages (from aiohttp<4.0.0,>=3.8.6->llama-index-core<0.11.0,>=0.10.1->llama-index-llms-huggingface) (4.0.3)\n",
            "Requirement already satisfied: pydantic>=1.10 in /usr/local/lib/python3.10/dist-packages (from llamaindex-py-client<0.2.0,>=0.1.16->llama-index-core<0.11.0,>=0.10.1->llama-index-llms-huggingface) (1.10.15)\n",
            "Requirement already satisfied: anyio in /usr/local/lib/python3.10/dist-packages (from httpx->llama-index-core<0.11.0,>=0.10.1->llama-index-llms-huggingface) (3.7.1)\n",
            "Requirement already satisfied: certifi in /usr/local/lib/python3.10/dist-packages (from httpx->llama-index-core<0.11.0,>=0.10.1->llama-index-llms-huggingface) (2024.2.2)\n",
            "Requirement already satisfied: httpcore==1.* in /usr/local/lib/python3.10/dist-packages (from httpx->llama-index-core<0.11.0,>=0.10.1->llama-index-llms-huggingface) (1.0.5)\n",
            "Requirement already satisfied: idna in /usr/local/lib/python3.10/dist-packages (from httpx->llama-index-core<0.11.0,>=0.10.1->llama-index-llms-huggingface) (3.6)\n",
            "Requirement already satisfied: sniffio in /usr/local/lib/python3.10/dist-packages (from httpx->llama-index-core<0.11.0,>=0.10.1->llama-index-llms-huggingface) (1.3.1)\n",
            "Requirement already satisfied: h11<0.15,>=0.13 in /usr/local/lib/python3.10/dist-packages (from httpcore==1.*->httpx->llama-index-core<0.11.0,>=0.10.1->llama-index-llms-huggingface) (0.14.0)\n",
            "Requirement already satisfied: click in /usr/local/lib/python3.10/dist-packages (from nltk<4.0.0,>=3.8.1->llama-index-core<0.11.0,>=0.10.1->llama-index-llms-huggingface) (8.1.7)\n",
            "Requirement already satisfied: joblib in /usr/local/lib/python3.10/dist-packages (from nltk<4.0.0,>=3.8.1->llama-index-core<0.11.0,>=0.10.1->llama-index-llms-huggingface) (1.3.2)\n",
            "Requirement already satisfied: distro<2,>=1.7.0 in /usr/lib/python3/dist-packages (from openai>=1.1.0->llama-index-core<0.11.0,>=0.10.1->llama-index-llms-huggingface) (1.7.0)\n",
            "Requirement already satisfied: charset-normalizer<4,>=2 in /usr/local/lib/python3.10/dist-packages (from requests->huggingface-hub<0.21.0,>=0.20.3->llama-index-llms-huggingface) (3.3.2)\n",
            "Requirement already satisfied: urllib3<3,>=1.21.1 in /usr/local/lib/python3.10/dist-packages (from requests->huggingface-hub<0.21.0,>=0.20.3->llama-index-llms-huggingface) (2.0.7)\n",
            "Requirement already satisfied: greenlet!=0.4.17 in /usr/local/lib/python3.10/dist-packages (from SQLAlchemy[asyncio]>=1.4.49->llama-index-core<0.11.0,>=0.10.1->llama-index-llms-huggingface) (3.0.3)\n",
            "Requirement already satisfied: mypy-extensions>=0.3.0 in /usr/local/lib/python3.10/dist-packages (from typing-inspect>=0.8.0->llama-index-core<0.11.0,>=0.10.1->llama-index-llms-huggingface) (1.0.0)\n",
            "Requirement already satisfied: marshmallow<4.0.0,>=3.18.0 in /usr/local/lib/python3.10/dist-packages (from dataclasses-json->llama-index-core<0.11.0,>=0.10.1->llama-index-llms-huggingface) (3.21.1)\n",
            "Requirement already satisfied: MarkupSafe>=2.0 in /usr/local/lib/python3.10/dist-packages (from jinja2->torch<3.0.0,>=2.1.2->llama-index-llms-huggingface) (2.1.5)\n",
            "Requirement already satisfied: python-dateutil>=2.8.2 in /usr/local/lib/python3.10/dist-packages (from pandas->llama-index-core<0.11.0,>=0.10.1->llama-index-llms-huggingface) (2.8.2)\n",
            "Requirement already satisfied: pytz>=2020.1 in /usr/local/lib/python3.10/dist-packages (from pandas->llama-index-core<0.11.0,>=0.10.1->llama-index-llms-huggingface) (2023.4)\n",
            "Requirement already satisfied: tzdata>=2022.1 in /usr/local/lib/python3.10/dist-packages (from pandas->llama-index-core<0.11.0,>=0.10.1->llama-index-llms-huggingface) (2024.1)\n",
            "Requirement already satisfied: mpmath>=0.19 in /usr/local/lib/python3.10/dist-packages (from sympy->torch<3.0.0,>=2.1.2->llama-index-llms-huggingface) (1.3.0)\n",
            "Requirement already satisfied: exceptiongroup in /usr/local/lib/python3.10/dist-packages (from anyio->httpx->llama-index-core<0.11.0,>=0.10.1->llama-index-llms-huggingface) (1.2.0)\n",
            "Requirement already satisfied: six>=1.5 in /usr/local/lib/python3.10/dist-packages (from python-dateutil>=2.8.2->pandas->llama-index-core<0.11.0,>=0.10.1->llama-index-llms-huggingface) (1.16.0)\n",
            "Installing collected packages: nvidia-nvtx-cu12, nvidia-nvjitlink-cu12, nvidia-nccl-cu12, nvidia-curand-cu12, nvidia-cufft-cu12, nvidia-cuda-runtime-cu12, nvidia-cuda-nvrtc-cu12, nvidia-cuda-cupti-cu12, nvidia-cublas-cu12, nvidia-cusparse-cu12, nvidia-cudnn-cu12, nvidia-cusolver-cu12, accelerate, llama-index-llms-huggingface\n",
            "Successfully installed accelerate-0.29.1 llama-index-llms-huggingface-0.1.4 nvidia-cublas-cu12-12.1.3.1 nvidia-cuda-cupti-cu12-12.1.105 nvidia-cuda-nvrtc-cu12-12.1.105 nvidia-cuda-runtime-cu12-12.1.105 nvidia-cudnn-cu12-8.9.2.26 nvidia-cufft-cu12-11.0.2.54 nvidia-curand-cu12-10.3.2.106 nvidia-cusolver-cu12-11.4.5.107 nvidia-cusparse-cu12-12.1.0.106 nvidia-nccl-cu12-2.19.3 nvidia-nvjitlink-cu12-12.4.127 nvidia-nvtx-cu12-12.1.105\n"
          ]
        }
      ]
    },
    {
      "cell_type": "code",
      "source": [
        "!pip install llama-index-embeddings-cohere"
      ],
      "metadata": {
        "id": "q7lUdUolwc1B",
        "colab": {
          "base_uri": "https://localhost:8080/"
        },
        "outputId": "a14b9151-e1c8-4b00-a02e-910f424ee69d"
      },
      "execution_count": 13,
      "outputs": [
        {
          "output_type": "stream",
          "name": "stdout",
          "text": [
            "Collecting llama-index-embeddings-cohere\n",
            "  Downloading llama_index_embeddings_cohere-0.1.5-py3-none-any.whl (3.7 kB)\n",
            "Collecting cohere<6.0.0,>=5.1.1 (from llama-index-embeddings-cohere)\n",
            "  Downloading cohere-5.2.2-py3-none-any.whl (144 kB)\n",
            "\u001b[2K     \u001b[90m━━━━━━━━━━━━━━━━━━━━━━━━━━━━━━━━━━━━━━━━\u001b[0m \u001b[32m144.3/144.3 kB\u001b[0m \u001b[31m2.9 MB/s\u001b[0m eta \u001b[36m0:00:00\u001b[0m\n",
            "\u001b[?25hRequirement already satisfied: llama-index-core<0.11.0,>=0.10.1 in /usr/local/lib/python3.10/dist-packages (from llama-index-embeddings-cohere) (0.10.27)\n",
            "Collecting fastavro<2.0.0,>=1.9.4 (from cohere<6.0.0,>=5.1.1->llama-index-embeddings-cohere)\n",
            "  Downloading fastavro-1.9.4-cp310-cp310-manylinux_2_17_x86_64.manylinux2014_x86_64.whl (3.1 MB)\n",
            "\u001b[2K     \u001b[90m━━━━━━━━━━━━━━━━━━━━━━━━━━━━━━━━━━━━━━━━\u001b[0m \u001b[32m3.1/3.1 MB\u001b[0m \u001b[31m40.3 MB/s\u001b[0m eta \u001b[36m0:00:00\u001b[0m\n",
            "\u001b[?25hRequirement already satisfied: httpx>=0.21.2 in /usr/local/lib/python3.10/dist-packages (from cohere<6.0.0,>=5.1.1->llama-index-embeddings-cohere) (0.27.0)\n",
            "Requirement already satisfied: pydantic>=1.9.2 in /usr/local/lib/python3.10/dist-packages (from cohere<6.0.0,>=5.1.1->llama-index-embeddings-cohere) (1.10.15)\n",
            "Requirement already satisfied: requests<3.0.0,>=2.0.0 in /usr/local/lib/python3.10/dist-packages (from cohere<6.0.0,>=5.1.1->llama-index-embeddings-cohere) (2.31.0)\n",
            "Requirement already satisfied: tokenizers<0.16.0,>=0.15.2 in /usr/local/lib/python3.10/dist-packages (from cohere<6.0.0,>=5.1.1->llama-index-embeddings-cohere) (0.15.2)\n",
            "Collecting types-requests<3.0.0,>=2.0.0 (from cohere<6.0.0,>=5.1.1->llama-index-embeddings-cohere)\n",
            "  Downloading types_requests-2.31.0.20240406-py3-none-any.whl (15 kB)\n",
            "Requirement already satisfied: typing_extensions>=4.0.0 in /usr/local/lib/python3.10/dist-packages (from cohere<6.0.0,>=5.1.1->llama-index-embeddings-cohere) (4.10.0)\n",
            "Requirement already satisfied: PyYAML>=6.0.1 in /usr/local/lib/python3.10/dist-packages (from llama-index-core<0.11.0,>=0.10.1->llama-index-embeddings-cohere) (6.0.1)\n",
            "Requirement already satisfied: SQLAlchemy[asyncio]>=1.4.49 in /usr/local/lib/python3.10/dist-packages (from llama-index-core<0.11.0,>=0.10.1->llama-index-embeddings-cohere) (2.0.29)\n",
            "Requirement already satisfied: aiohttp<4.0.0,>=3.8.6 in /usr/local/lib/python3.10/dist-packages (from llama-index-core<0.11.0,>=0.10.1->llama-index-embeddings-cohere) (3.9.3)\n",
            "Requirement already satisfied: dataclasses-json in /usr/local/lib/python3.10/dist-packages (from llama-index-core<0.11.0,>=0.10.1->llama-index-embeddings-cohere) (0.6.4)\n",
            "Requirement already satisfied: deprecated>=1.2.9.3 in /usr/local/lib/python3.10/dist-packages (from llama-index-core<0.11.0,>=0.10.1->llama-index-embeddings-cohere) (1.2.14)\n",
            "Requirement already satisfied: dirtyjson<2.0.0,>=1.0.8 in /usr/local/lib/python3.10/dist-packages (from llama-index-core<0.11.0,>=0.10.1->llama-index-embeddings-cohere) (1.0.8)\n",
            "Requirement already satisfied: fsspec>=2023.5.0 in /usr/local/lib/python3.10/dist-packages (from llama-index-core<0.11.0,>=0.10.1->llama-index-embeddings-cohere) (2023.6.0)\n",
            "Requirement already satisfied: llamaindex-py-client<0.2.0,>=0.1.16 in /usr/local/lib/python3.10/dist-packages (from llama-index-core<0.11.0,>=0.10.1->llama-index-embeddings-cohere) (0.1.16)\n",
            "Requirement already satisfied: nest-asyncio<2.0.0,>=1.5.8 in /usr/local/lib/python3.10/dist-packages (from llama-index-core<0.11.0,>=0.10.1->llama-index-embeddings-cohere) (1.6.0)\n",
            "Requirement already satisfied: networkx>=3.0 in /usr/local/lib/python3.10/dist-packages (from llama-index-core<0.11.0,>=0.10.1->llama-index-embeddings-cohere) (3.2.1)\n",
            "Requirement already satisfied: nltk<4.0.0,>=3.8.1 in /usr/local/lib/python3.10/dist-packages (from llama-index-core<0.11.0,>=0.10.1->llama-index-embeddings-cohere) (3.8.1)\n",
            "Requirement already satisfied: numpy in /usr/local/lib/python3.10/dist-packages (from llama-index-core<0.11.0,>=0.10.1->llama-index-embeddings-cohere) (1.25.2)\n",
            "Requirement already satisfied: openai>=1.1.0 in /usr/local/lib/python3.10/dist-packages (from llama-index-core<0.11.0,>=0.10.1->llama-index-embeddings-cohere) (1.16.2)\n",
            "Requirement already satisfied: pandas in /usr/local/lib/python3.10/dist-packages (from llama-index-core<0.11.0,>=0.10.1->llama-index-embeddings-cohere) (2.0.3)\n",
            "Requirement already satisfied: pillow>=9.0.0 in /usr/local/lib/python3.10/dist-packages (from llama-index-core<0.11.0,>=0.10.1->llama-index-embeddings-cohere) (9.4.0)\n",
            "Requirement already satisfied: tenacity<9.0.0,>=8.2.0 in /usr/local/lib/python3.10/dist-packages (from llama-index-core<0.11.0,>=0.10.1->llama-index-embeddings-cohere) (8.2.3)\n",
            "Requirement already satisfied: tiktoken>=0.3.3 in /usr/local/lib/python3.10/dist-packages (from llama-index-core<0.11.0,>=0.10.1->llama-index-embeddings-cohere) (0.4.0)\n",
            "Requirement already satisfied: tqdm<5.0.0,>=4.66.1 in /usr/local/lib/python3.10/dist-packages (from llama-index-core<0.11.0,>=0.10.1->llama-index-embeddings-cohere) (4.66.2)\n",
            "Requirement already satisfied: typing-inspect>=0.8.0 in /usr/local/lib/python3.10/dist-packages (from llama-index-core<0.11.0,>=0.10.1->llama-index-embeddings-cohere) (0.9.0)\n",
            "Requirement already satisfied: wrapt in /usr/local/lib/python3.10/dist-packages (from llama-index-core<0.11.0,>=0.10.1->llama-index-embeddings-cohere) (1.14.1)\n",
            "Requirement already satisfied: aiosignal>=1.1.2 in /usr/local/lib/python3.10/dist-packages (from aiohttp<4.0.0,>=3.8.6->llama-index-core<0.11.0,>=0.10.1->llama-index-embeddings-cohere) (1.3.1)\n",
            "Requirement already satisfied: attrs>=17.3.0 in /usr/local/lib/python3.10/dist-packages (from aiohttp<4.0.0,>=3.8.6->llama-index-core<0.11.0,>=0.10.1->llama-index-embeddings-cohere) (23.2.0)\n",
            "Requirement already satisfied: frozenlist>=1.1.1 in /usr/local/lib/python3.10/dist-packages (from aiohttp<4.0.0,>=3.8.6->llama-index-core<0.11.0,>=0.10.1->llama-index-embeddings-cohere) (1.4.1)\n",
            "Requirement already satisfied: multidict<7.0,>=4.5 in /usr/local/lib/python3.10/dist-packages (from aiohttp<4.0.0,>=3.8.6->llama-index-core<0.11.0,>=0.10.1->llama-index-embeddings-cohere) (6.0.5)\n",
            "Requirement already satisfied: yarl<2.0,>=1.0 in /usr/local/lib/python3.10/dist-packages (from aiohttp<4.0.0,>=3.8.6->llama-index-core<0.11.0,>=0.10.1->llama-index-embeddings-cohere) (1.9.4)\n",
            "Requirement already satisfied: async-timeout<5.0,>=4.0 in /usr/local/lib/python3.10/dist-packages (from aiohttp<4.0.0,>=3.8.6->llama-index-core<0.11.0,>=0.10.1->llama-index-embeddings-cohere) (4.0.3)\n",
            "Requirement already satisfied: anyio in /usr/local/lib/python3.10/dist-packages (from httpx>=0.21.2->cohere<6.0.0,>=5.1.1->llama-index-embeddings-cohere) (3.7.1)\n",
            "Requirement already satisfied: certifi in /usr/local/lib/python3.10/dist-packages (from httpx>=0.21.2->cohere<6.0.0,>=5.1.1->llama-index-embeddings-cohere) (2024.2.2)\n",
            "Requirement already satisfied: httpcore==1.* in /usr/local/lib/python3.10/dist-packages (from httpx>=0.21.2->cohere<6.0.0,>=5.1.1->llama-index-embeddings-cohere) (1.0.5)\n",
            "Requirement already satisfied: idna in /usr/local/lib/python3.10/dist-packages (from httpx>=0.21.2->cohere<6.0.0,>=5.1.1->llama-index-embeddings-cohere) (3.6)\n",
            "Requirement already satisfied: sniffio in /usr/local/lib/python3.10/dist-packages (from httpx>=0.21.2->cohere<6.0.0,>=5.1.1->llama-index-embeddings-cohere) (1.3.1)\n",
            "Requirement already satisfied: h11<0.15,>=0.13 in /usr/local/lib/python3.10/dist-packages (from httpcore==1.*->httpx>=0.21.2->cohere<6.0.0,>=5.1.1->llama-index-embeddings-cohere) (0.14.0)\n",
            "Requirement already satisfied: click in /usr/local/lib/python3.10/dist-packages (from nltk<4.0.0,>=3.8.1->llama-index-core<0.11.0,>=0.10.1->llama-index-embeddings-cohere) (8.1.7)\n",
            "Requirement already satisfied: joblib in /usr/local/lib/python3.10/dist-packages (from nltk<4.0.0,>=3.8.1->llama-index-core<0.11.0,>=0.10.1->llama-index-embeddings-cohere) (1.3.2)\n",
            "Requirement already satisfied: regex>=2021.8.3 in /usr/local/lib/python3.10/dist-packages (from nltk<4.0.0,>=3.8.1->llama-index-core<0.11.0,>=0.10.1->llama-index-embeddings-cohere) (2023.12.25)\n",
            "Requirement already satisfied: distro<2,>=1.7.0 in /usr/lib/python3/dist-packages (from openai>=1.1.0->llama-index-core<0.11.0,>=0.10.1->llama-index-embeddings-cohere) (1.7.0)\n",
            "Requirement already satisfied: charset-normalizer<4,>=2 in /usr/local/lib/python3.10/dist-packages (from requests<3.0.0,>=2.0.0->cohere<6.0.0,>=5.1.1->llama-index-embeddings-cohere) (3.3.2)\n",
            "Requirement already satisfied: urllib3<3,>=1.21.1 in /usr/local/lib/python3.10/dist-packages (from requests<3.0.0,>=2.0.0->cohere<6.0.0,>=5.1.1->llama-index-embeddings-cohere) (2.0.7)\n",
            "Requirement already satisfied: greenlet!=0.4.17 in /usr/local/lib/python3.10/dist-packages (from SQLAlchemy[asyncio]>=1.4.49->llama-index-core<0.11.0,>=0.10.1->llama-index-embeddings-cohere) (3.0.3)\n",
            "Requirement already satisfied: huggingface_hub<1.0,>=0.16.4 in /usr/local/lib/python3.10/dist-packages (from tokenizers<0.16.0,>=0.15.2->cohere<6.0.0,>=5.1.1->llama-index-embeddings-cohere) (0.20.3)\n",
            "Requirement already satisfied: mypy-extensions>=0.3.0 in /usr/local/lib/python3.10/dist-packages (from typing-inspect>=0.8.0->llama-index-core<0.11.0,>=0.10.1->llama-index-embeddings-cohere) (1.0.0)\n",
            "Requirement already satisfied: marshmallow<4.0.0,>=3.18.0 in /usr/local/lib/python3.10/dist-packages (from dataclasses-json->llama-index-core<0.11.0,>=0.10.1->llama-index-embeddings-cohere) (3.21.1)\n",
            "Requirement already satisfied: python-dateutil>=2.8.2 in /usr/local/lib/python3.10/dist-packages (from pandas->llama-index-core<0.11.0,>=0.10.1->llama-index-embeddings-cohere) (2.8.2)\n",
            "Requirement already satisfied: pytz>=2020.1 in /usr/local/lib/python3.10/dist-packages (from pandas->llama-index-core<0.11.0,>=0.10.1->llama-index-embeddings-cohere) (2023.4)\n",
            "Requirement already satisfied: tzdata>=2022.1 in /usr/local/lib/python3.10/dist-packages (from pandas->llama-index-core<0.11.0,>=0.10.1->llama-index-embeddings-cohere) (2024.1)\n",
            "Requirement already satisfied: exceptiongroup in /usr/local/lib/python3.10/dist-packages (from anyio->httpx>=0.21.2->cohere<6.0.0,>=5.1.1->llama-index-embeddings-cohere) (1.2.0)\n",
            "Requirement already satisfied: filelock in /usr/local/lib/python3.10/dist-packages (from huggingface_hub<1.0,>=0.16.4->tokenizers<0.16.0,>=0.15.2->cohere<6.0.0,>=5.1.1->llama-index-embeddings-cohere) (3.13.3)\n",
            "Requirement already satisfied: packaging>=20.9 in /usr/local/lib/python3.10/dist-packages (from huggingface_hub<1.0,>=0.16.4->tokenizers<0.16.0,>=0.15.2->cohere<6.0.0,>=5.1.1->llama-index-embeddings-cohere) (24.0)\n",
            "Requirement already satisfied: six>=1.5 in /usr/local/lib/python3.10/dist-packages (from python-dateutil>=2.8.2->pandas->llama-index-core<0.11.0,>=0.10.1->llama-index-embeddings-cohere) (1.16.0)\n",
            "Installing collected packages: types-requests, fastavro, cohere, llama-index-embeddings-cohere\n",
            "Successfully installed cohere-5.2.2 fastavro-1.9.4 llama-index-embeddings-cohere-0.1.5 types-requests-2.31.0.20240406\n"
          ]
        }
      ]
    },
    {
      "cell_type": "code",
      "source": [
        "!pip install llama-index-vector-stores-astra-db"
      ],
      "metadata": {
        "id": "bnClsJyFwc37",
        "colab": {
          "base_uri": "https://localhost:8080/"
        },
        "outputId": "ad170d16-3e40-497a-fab5-29fe6f3b028d"
      },
      "execution_count": 11,
      "outputs": [
        {
          "output_type": "stream",
          "name": "stdout",
          "text": [
            "Collecting llama-index-vector-stores-astra-db\n",
            "  Downloading llama_index_vector_stores_astra_db-0.1.5-py3-none-any.whl (6.0 kB)\n",
            "Collecting astrapy<0.8.0,>=0.7.7 (from llama-index-vector-stores-astra-db)\n",
            "  Downloading astrapy-0.7.7-py3-none-any.whl (32 kB)\n",
            "Requirement already satisfied: llama-index-core<0.11.0,>=0.10.1 in /usr/local/lib/python3.10/dist-packages (from llama-index-vector-stores-astra-db) (0.10.27)\n",
            "Requirement already satisfied: cassio<0.2.0,>=0.1.4 in /usr/local/lib/python3.10/dist-packages (from astrapy<0.8.0,>=0.7.7->llama-index-vector-stores-astra-db) (0.1.5)\n",
            "Collecting deprecation<2.2.0,>=2.1.0 (from astrapy<0.8.0,>=0.7.7->llama-index-vector-stores-astra-db)\n",
            "  Downloading deprecation-2.1.0-py2.py3-none-any.whl (11 kB)\n",
            "Requirement already satisfied: httpx[http2]<1,>=0.25.2 in /usr/local/lib/python3.10/dist-packages (from astrapy<0.8.0,>=0.7.7->llama-index-vector-stores-astra-db) (0.27.0)\n",
            "Requirement already satisfied: toml<0.11.0,>=0.10.2 in /usr/local/lib/python3.10/dist-packages (from astrapy<0.8.0,>=0.7.7->llama-index-vector-stores-astra-db) (0.10.2)\n",
            "Requirement already satisfied: PyYAML>=6.0.1 in /usr/local/lib/python3.10/dist-packages (from llama-index-core<0.11.0,>=0.10.1->llama-index-vector-stores-astra-db) (6.0.1)\n",
            "Requirement already satisfied: SQLAlchemy[asyncio]>=1.4.49 in /usr/local/lib/python3.10/dist-packages (from llama-index-core<0.11.0,>=0.10.1->llama-index-vector-stores-astra-db) (2.0.29)\n",
            "Requirement already satisfied: aiohttp<4.0.0,>=3.8.6 in /usr/local/lib/python3.10/dist-packages (from llama-index-core<0.11.0,>=0.10.1->llama-index-vector-stores-astra-db) (3.9.3)\n",
            "Requirement already satisfied: dataclasses-json in /usr/local/lib/python3.10/dist-packages (from llama-index-core<0.11.0,>=0.10.1->llama-index-vector-stores-astra-db) (0.6.4)\n",
            "Requirement already satisfied: deprecated>=1.2.9.3 in /usr/local/lib/python3.10/dist-packages (from llama-index-core<0.11.0,>=0.10.1->llama-index-vector-stores-astra-db) (1.2.14)\n",
            "Requirement already satisfied: dirtyjson<2.0.0,>=1.0.8 in /usr/local/lib/python3.10/dist-packages (from llama-index-core<0.11.0,>=0.10.1->llama-index-vector-stores-astra-db) (1.0.8)\n",
            "Requirement already satisfied: fsspec>=2023.5.0 in /usr/local/lib/python3.10/dist-packages (from llama-index-core<0.11.0,>=0.10.1->llama-index-vector-stores-astra-db) (2023.6.0)\n",
            "Requirement already satisfied: llamaindex-py-client<0.2.0,>=0.1.16 in /usr/local/lib/python3.10/dist-packages (from llama-index-core<0.11.0,>=0.10.1->llama-index-vector-stores-astra-db) (0.1.16)\n",
            "Requirement already satisfied: nest-asyncio<2.0.0,>=1.5.8 in /usr/local/lib/python3.10/dist-packages (from llama-index-core<0.11.0,>=0.10.1->llama-index-vector-stores-astra-db) (1.6.0)\n",
            "Requirement already satisfied: networkx>=3.0 in /usr/local/lib/python3.10/dist-packages (from llama-index-core<0.11.0,>=0.10.1->llama-index-vector-stores-astra-db) (3.2.1)\n",
            "Requirement already satisfied: nltk<4.0.0,>=3.8.1 in /usr/local/lib/python3.10/dist-packages (from llama-index-core<0.11.0,>=0.10.1->llama-index-vector-stores-astra-db) (3.8.1)\n",
            "Requirement already satisfied: numpy in /usr/local/lib/python3.10/dist-packages (from llama-index-core<0.11.0,>=0.10.1->llama-index-vector-stores-astra-db) (1.25.2)\n",
            "Requirement already satisfied: openai>=1.1.0 in /usr/local/lib/python3.10/dist-packages (from llama-index-core<0.11.0,>=0.10.1->llama-index-vector-stores-astra-db) (1.16.2)\n",
            "Requirement already satisfied: pandas in /usr/local/lib/python3.10/dist-packages (from llama-index-core<0.11.0,>=0.10.1->llama-index-vector-stores-astra-db) (2.0.3)\n",
            "Requirement already satisfied: pillow>=9.0.0 in /usr/local/lib/python3.10/dist-packages (from llama-index-core<0.11.0,>=0.10.1->llama-index-vector-stores-astra-db) (9.4.0)\n",
            "Requirement already satisfied: requests>=2.31.0 in /usr/local/lib/python3.10/dist-packages (from llama-index-core<0.11.0,>=0.10.1->llama-index-vector-stores-astra-db) (2.31.0)\n",
            "Requirement already satisfied: tenacity<9.0.0,>=8.2.0 in /usr/local/lib/python3.10/dist-packages (from llama-index-core<0.11.0,>=0.10.1->llama-index-vector-stores-astra-db) (8.2.3)\n",
            "Requirement already satisfied: tiktoken>=0.3.3 in /usr/local/lib/python3.10/dist-packages (from llama-index-core<0.11.0,>=0.10.1->llama-index-vector-stores-astra-db) (0.4.0)\n",
            "Requirement already satisfied: tqdm<5.0.0,>=4.66.1 in /usr/local/lib/python3.10/dist-packages (from llama-index-core<0.11.0,>=0.10.1->llama-index-vector-stores-astra-db) (4.66.2)\n",
            "Requirement already satisfied: typing-extensions>=4.5.0 in /usr/local/lib/python3.10/dist-packages (from llama-index-core<0.11.0,>=0.10.1->llama-index-vector-stores-astra-db) (4.10.0)\n",
            "Requirement already satisfied: typing-inspect>=0.8.0 in /usr/local/lib/python3.10/dist-packages (from llama-index-core<0.11.0,>=0.10.1->llama-index-vector-stores-astra-db) (0.9.0)\n",
            "Requirement already satisfied: wrapt in /usr/local/lib/python3.10/dist-packages (from llama-index-core<0.11.0,>=0.10.1->llama-index-vector-stores-astra-db) (1.14.1)\n",
            "Requirement already satisfied: aiosignal>=1.1.2 in /usr/local/lib/python3.10/dist-packages (from aiohttp<4.0.0,>=3.8.6->llama-index-core<0.11.0,>=0.10.1->llama-index-vector-stores-astra-db) (1.3.1)\n",
            "Requirement already satisfied: attrs>=17.3.0 in /usr/local/lib/python3.10/dist-packages (from aiohttp<4.0.0,>=3.8.6->llama-index-core<0.11.0,>=0.10.1->llama-index-vector-stores-astra-db) (23.2.0)\n",
            "Requirement already satisfied: frozenlist>=1.1.1 in /usr/local/lib/python3.10/dist-packages (from aiohttp<4.0.0,>=3.8.6->llama-index-core<0.11.0,>=0.10.1->llama-index-vector-stores-astra-db) (1.4.1)\n",
            "Requirement already satisfied: multidict<7.0,>=4.5 in /usr/local/lib/python3.10/dist-packages (from aiohttp<4.0.0,>=3.8.6->llama-index-core<0.11.0,>=0.10.1->llama-index-vector-stores-astra-db) (6.0.5)\n",
            "Requirement already satisfied: yarl<2.0,>=1.0 in /usr/local/lib/python3.10/dist-packages (from aiohttp<4.0.0,>=3.8.6->llama-index-core<0.11.0,>=0.10.1->llama-index-vector-stores-astra-db) (1.9.4)\n",
            "Requirement already satisfied: async-timeout<5.0,>=4.0 in /usr/local/lib/python3.10/dist-packages (from aiohttp<4.0.0,>=3.8.6->llama-index-core<0.11.0,>=0.10.1->llama-index-vector-stores-astra-db) (4.0.3)\n",
            "Requirement already satisfied: cassandra-driver>=3.28.0 in /usr/local/lib/python3.10/dist-packages (from cassio<0.2.0,>=0.1.4->astrapy<0.8.0,>=0.7.7->llama-index-vector-stores-astra-db) (3.29.1)\n",
            "Requirement already satisfied: packaging in /usr/local/lib/python3.10/dist-packages (from deprecation<2.2.0,>=2.1.0->astrapy<0.8.0,>=0.7.7->llama-index-vector-stores-astra-db) (24.0)\n",
            "Requirement already satisfied: anyio in /usr/local/lib/python3.10/dist-packages (from httpx[http2]<1,>=0.25.2->astrapy<0.8.0,>=0.7.7->llama-index-vector-stores-astra-db) (3.7.1)\n",
            "Requirement already satisfied: certifi in /usr/local/lib/python3.10/dist-packages (from httpx[http2]<1,>=0.25.2->astrapy<0.8.0,>=0.7.7->llama-index-vector-stores-astra-db) (2024.2.2)\n",
            "Requirement already satisfied: httpcore==1.* in /usr/local/lib/python3.10/dist-packages (from httpx[http2]<1,>=0.25.2->astrapy<0.8.0,>=0.7.7->llama-index-vector-stores-astra-db) (1.0.5)\n",
            "Requirement already satisfied: idna in /usr/local/lib/python3.10/dist-packages (from httpx[http2]<1,>=0.25.2->astrapy<0.8.0,>=0.7.7->llama-index-vector-stores-astra-db) (3.6)\n",
            "Requirement already satisfied: sniffio in /usr/local/lib/python3.10/dist-packages (from httpx[http2]<1,>=0.25.2->astrapy<0.8.0,>=0.7.7->llama-index-vector-stores-astra-db) (1.3.1)\n",
            "Collecting h2<5,>=3 (from httpx[http2]<1,>=0.25.2->astrapy<0.8.0,>=0.7.7->llama-index-vector-stores-astra-db)\n",
            "  Downloading h2-4.1.0-py3-none-any.whl (57 kB)\n",
            "\u001b[2K     \u001b[90m━━━━━━━━━━━━━━━━━━━━━━━━━━━━━━━━━━━━━━━━\u001b[0m \u001b[32m57.5/57.5 kB\u001b[0m \u001b[31m4.5 MB/s\u001b[0m eta \u001b[36m0:00:00\u001b[0m\n",
            "\u001b[?25hRequirement already satisfied: h11<0.15,>=0.13 in /usr/local/lib/python3.10/dist-packages (from httpcore==1.*->httpx[http2]<1,>=0.25.2->astrapy<0.8.0,>=0.7.7->llama-index-vector-stores-astra-db) (0.14.0)\n",
            "Requirement already satisfied: pydantic>=1.10 in /usr/local/lib/python3.10/dist-packages (from llamaindex-py-client<0.2.0,>=0.1.16->llama-index-core<0.11.0,>=0.10.1->llama-index-vector-stores-astra-db) (1.10.15)\n",
            "Requirement already satisfied: click in /usr/local/lib/python3.10/dist-packages (from nltk<4.0.0,>=3.8.1->llama-index-core<0.11.0,>=0.10.1->llama-index-vector-stores-astra-db) (8.1.7)\n",
            "Requirement already satisfied: joblib in /usr/local/lib/python3.10/dist-packages (from nltk<4.0.0,>=3.8.1->llama-index-core<0.11.0,>=0.10.1->llama-index-vector-stores-astra-db) (1.3.2)\n",
            "Requirement already satisfied: regex>=2021.8.3 in /usr/local/lib/python3.10/dist-packages (from nltk<4.0.0,>=3.8.1->llama-index-core<0.11.0,>=0.10.1->llama-index-vector-stores-astra-db) (2023.12.25)\n",
            "Requirement already satisfied: distro<2,>=1.7.0 in /usr/lib/python3/dist-packages (from openai>=1.1.0->llama-index-core<0.11.0,>=0.10.1->llama-index-vector-stores-astra-db) (1.7.0)\n",
            "Requirement already satisfied: charset-normalizer<4,>=2 in /usr/local/lib/python3.10/dist-packages (from requests>=2.31.0->llama-index-core<0.11.0,>=0.10.1->llama-index-vector-stores-astra-db) (3.3.2)\n",
            "Requirement already satisfied: urllib3<3,>=1.21.1 in /usr/local/lib/python3.10/dist-packages (from requests>=2.31.0->llama-index-core<0.11.0,>=0.10.1->llama-index-vector-stores-astra-db) (2.0.7)\n",
            "Requirement already satisfied: greenlet!=0.4.17 in /usr/local/lib/python3.10/dist-packages (from SQLAlchemy[asyncio]>=1.4.49->llama-index-core<0.11.0,>=0.10.1->llama-index-vector-stores-astra-db) (3.0.3)\n",
            "Requirement already satisfied: mypy-extensions>=0.3.0 in /usr/local/lib/python3.10/dist-packages (from typing-inspect>=0.8.0->llama-index-core<0.11.0,>=0.10.1->llama-index-vector-stores-astra-db) (1.0.0)\n",
            "Requirement already satisfied: marshmallow<4.0.0,>=3.18.0 in /usr/local/lib/python3.10/dist-packages (from dataclasses-json->llama-index-core<0.11.0,>=0.10.1->llama-index-vector-stores-astra-db) (3.21.1)\n",
            "Requirement already satisfied: python-dateutil>=2.8.2 in /usr/local/lib/python3.10/dist-packages (from pandas->llama-index-core<0.11.0,>=0.10.1->llama-index-vector-stores-astra-db) (2.8.2)\n",
            "Requirement already satisfied: pytz>=2020.1 in /usr/local/lib/python3.10/dist-packages (from pandas->llama-index-core<0.11.0,>=0.10.1->llama-index-vector-stores-astra-db) (2023.4)\n",
            "Requirement already satisfied: tzdata>=2022.1 in /usr/local/lib/python3.10/dist-packages (from pandas->llama-index-core<0.11.0,>=0.10.1->llama-index-vector-stores-astra-db) (2024.1)\n",
            "Requirement already satisfied: exceptiongroup in /usr/local/lib/python3.10/dist-packages (from anyio->httpx[http2]<1,>=0.25.2->astrapy<0.8.0,>=0.7.7->llama-index-vector-stores-astra-db) (1.2.0)\n",
            "Requirement already satisfied: geomet<0.3,>=0.1 in /usr/local/lib/python3.10/dist-packages (from cassandra-driver>=3.28.0->cassio<0.2.0,>=0.1.4->astrapy<0.8.0,>=0.7.7->llama-index-vector-stores-astra-db) (0.2.1.post1)\n",
            "Collecting hyperframe<7,>=6.0 (from h2<5,>=3->httpx[http2]<1,>=0.25.2->astrapy<0.8.0,>=0.7.7->llama-index-vector-stores-astra-db)\n",
            "  Downloading hyperframe-6.0.1-py3-none-any.whl (12 kB)\n",
            "Collecting hpack<5,>=4.0 (from h2<5,>=3->httpx[http2]<1,>=0.25.2->astrapy<0.8.0,>=0.7.7->llama-index-vector-stores-astra-db)\n",
            "  Downloading hpack-4.0.0-py3-none-any.whl (32 kB)\n",
            "Requirement already satisfied: six>=1.5 in /usr/local/lib/python3.10/dist-packages (from python-dateutil>=2.8.2->pandas->llama-index-core<0.11.0,>=0.10.1->llama-index-vector-stores-astra-db) (1.16.0)\n",
            "Installing collected packages: hyperframe, hpack, deprecation, h2, astrapy, llama-index-vector-stores-astra-db\n",
            "Successfully installed astrapy-0.7.7 deprecation-2.1.0 h2-4.1.0 hpack-4.0.0 hyperframe-6.0.1 llama-index-vector-stores-astra-db-0.1.5\n"
          ]
        }
      ]
    },
    {
      "cell_type": "code",
      "source": [
        "# !sudo pip3 install pydantic\n",
        "!pip3 install pydantic==2.0.3"
      ],
      "metadata": {
        "id": "XsNPhWrPwc6k",
        "colab": {
          "base_uri": "https://localhost:8080/"
        },
        "outputId": "a0ec3c28-ab15-41eb-8831-41cebced1a3e"
      },
      "execution_count": null,
      "outputs": [
        {
          "output_type": "stream",
          "name": "stdout",
          "text": [
            "Collecting pydantic==2.0.3\n",
            "  Downloading pydantic-2.0.3-py3-none-any.whl (364 kB)\n",
            "\u001b[2K     \u001b[90m━━━━━━━━━━━━━━━━━━━━━━━━━━━━━━━━━━━━━━━━\u001b[0m \u001b[32m364.0/364.0 kB\u001b[0m \u001b[31m3.3 MB/s\u001b[0m eta \u001b[36m0:00:00\u001b[0m\n",
            "\u001b[?25hRequirement already satisfied: annotated-types>=0.4.0 in /usr/local/lib/python3.10/dist-packages (from pydantic==2.0.3) (0.6.0)\n",
            "Collecting pydantic-core==2.3.0 (from pydantic==2.0.3)\n",
            "  Downloading pydantic_core-2.3.0-cp310-cp310-manylinux_2_17_x86_64.manylinux2014_x86_64.whl (1.8 MB)\n",
            "\u001b[2K     \u001b[90m━━━━━━━━━━━━━━━━━━━━━━━━━━━━━━━━━━━━━━━━\u001b[0m \u001b[32m1.8/1.8 MB\u001b[0m \u001b[31m13.8 MB/s\u001b[0m eta \u001b[36m0:00:00\u001b[0m\n",
            "\u001b[?25hRequirement already satisfied: typing-extensions>=4.6.1 in /usr/local/lib/python3.10/dist-packages (from pydantic==2.0.3) (4.10.0)\n",
            "Installing collected packages: pydantic-core, pydantic\n",
            "  Attempting uninstall: pydantic-core\n",
            "    Found existing installation: pydantic_core 2.16.3\n",
            "    Uninstalling pydantic_core-2.16.3:\n",
            "      Successfully uninstalled pydantic_core-2.16.3\n",
            "  Attempting uninstall: pydantic\n",
            "    Found existing installation: pydantic 2.6.4\n",
            "    Uninstalling pydantic-2.6.4:\n",
            "      Successfully uninstalled pydantic-2.6.4\n",
            "Successfully installed pydantic-2.0.3 pydantic-core-2.3.0\n"
          ]
        }
      ]
    },
    {
      "cell_type": "code",
      "source": [
        "!sudo apt-get install tesseract-ocr-mar\n",
        "!apt install libtesseract-dev\n",
        "!apt-get install poppler-utils\n",
        "!pip install pytesseract\n",
        "!pip install pdf2image"
      ],
      "metadata": {
        "id": "W0JWBb6qDZb3",
        "colab": {
          "base_uri": "https://localhost:8080/"
        },
        "outputId": "b77d0450-7169-4584-946e-06893803c7da"
      },
      "execution_count": 2,
      "outputs": [
        {
          "output_type": "stream",
          "name": "stdout",
          "text": [
            "Reading package lists... Done\n",
            "Building dependency tree... Done\n",
            "Reading state information... Done\n",
            "tesseract-ocr-mar is already the newest version (1:4.00~git30-7274cfa-1.1).\n",
            "0 upgraded, 0 newly installed, 0 to remove and 45 not upgraded.\n",
            "Reading package lists... Done\n",
            "Building dependency tree... Done\n",
            "Reading state information... Done\n",
            "libtesseract-dev is already the newest version (4.1.1-2.1build1).\n",
            "0 upgraded, 0 newly installed, 0 to remove and 45 not upgraded.\n",
            "Reading package lists... Done\n",
            "Building dependency tree... Done\n",
            "Reading state information... Done\n",
            "poppler-utils is already the newest version (22.02.0-2ubuntu0.3).\n",
            "0 upgraded, 0 newly installed, 0 to remove and 45 not upgraded.\n",
            "Requirement already satisfied: pytesseract in /usr/local/lib/python3.10/dist-packages (0.3.10)\n",
            "Requirement already satisfied: packaging>=21.3 in /usr/local/lib/python3.10/dist-packages (from pytesseract) (24.0)\n",
            "Requirement already satisfied: Pillow>=8.0.0 in /usr/local/lib/python3.10/dist-packages (from pytesseract) (9.4.0)\n",
            "Requirement already satisfied: pdf2image in /usr/local/lib/python3.10/dist-packages (1.17.0)\n",
            "Requirement already satisfied: pillow in /usr/local/lib/python3.10/dist-packages (from pdf2image) (9.4.0)\n"
          ]
        }
      ]
    },
    {
      "cell_type": "code",
      "source": [
        "!pip install -q cassandra-driver\n",
        "!pip install -q cassio>=0.1.1\n",
        "!pip install -q gradientai --upgrade\n",
        "!pip install -q llama-index\n",
        "!pip install -q pypdf\n",
        "!pip install -q tiktoken==0.4.0"
      ],
      "metadata": {
        "id": "ZLEwQoXDwc9U",
        "colab": {
          "base_uri": "https://localhost:8080/"
        },
        "outputId": "c2853df4-173a-4922-fb44-0f0374a17a41"
      },
      "execution_count": 3,
      "outputs": [
        {
          "output_type": "stream",
          "name": "stdout",
          "text": [
            "\u001b[2K     \u001b[90m━━━━━━━━━━━━━━━━━━━━━━━━━━━━━━━━━━━━━━━━\u001b[0m \u001b[32m18.9/18.9 MB\u001b[0m \u001b[31m39.9 MB/s\u001b[0m eta \u001b[36m0:00:00\u001b[0m\n",
            "\u001b[2K     \u001b[90m━━━━━━━━━━━━━━━━━━━━━━━━━━━━━━━━━━━━━━━━\u001b[0m \u001b[32m353.6/353.6 kB\u001b[0m \u001b[31m4.1 MB/s\u001b[0m eta \u001b[36m0:00:00\u001b[0m\n",
            "\u001b[2K     \u001b[90m━━━━━━━━━━━━━━━━━━━━━━━━━━━━━━━━━━━━━━━━\u001b[0m \u001b[32m137.6/137.6 kB\u001b[0m \u001b[31m6.3 MB/s\u001b[0m eta \u001b[36m0:00:00\u001b[0m\n",
            "\u001b[2K     \u001b[90m━━━━━━━━━━━━━━━━━━━━━━━━━━━━━━━━━━━━━━━━\u001b[0m \u001b[32m3.1/3.1 MB\u001b[0m \u001b[31m12.6 MB/s\u001b[0m eta \u001b[36m0:00:00\u001b[0m\n",
            "\u001b[2K     \u001b[90m━━━━━━━━━━━━━━━━━━━━━━━━━━━━━━━━━━━━━━━━\u001b[0m \u001b[32m15.4/15.4 MB\u001b[0m \u001b[31m77.4 MB/s\u001b[0m eta \u001b[36m0:00:00\u001b[0m\n",
            "\u001b[2K     \u001b[90m━━━━━━━━━━━━━━━━━━━━━━━━━━━━━━━━━━━━━━━━\u001b[0m \u001b[32m2.0/2.0 MB\u001b[0m \u001b[31m82.7 MB/s\u001b[0m eta \u001b[36m0:00:00\u001b[0m\n",
            "\u001b[2K     \u001b[90m━━━━━━━━━━━━━━━━━━━━━━━━━━━━━━━━━━━━━━━━\u001b[0m \u001b[32m267.1/267.1 kB\u001b[0m \u001b[31m31.7 MB/s\u001b[0m eta \u001b[36m0:00:00\u001b[0m\n",
            "\u001b[2K     \u001b[90m━━━━━━━━━━━━━━━━━━━━━━━━━━━━━━━━━━━━━━━━\u001b[0m \u001b[32m75.6/75.6 kB\u001b[0m \u001b[31m10.1 MB/s\u001b[0m eta \u001b[36m0:00:00\u001b[0m\n",
            "\u001b[2K     \u001b[90m━━━━━━━━━━━━━━━━━━━━━━━━━━━━━━━━━━━━━━━━\u001b[0m \u001b[32m136.0/136.0 kB\u001b[0m \u001b[31m17.2 MB/s\u001b[0m eta \u001b[36m0:00:00\u001b[0m\n",
            "\u001b[2K     \u001b[90m━━━━━━━━━━━━━━━━━━━━━━━━━━━━━━━━━━━━━━━━\u001b[0m \u001b[32m1.8/1.8 MB\u001b[0m \u001b[31m86.3 MB/s\u001b[0m eta \u001b[36m0:00:00\u001b[0m\n",
            "\u001b[2K     \u001b[90m━━━━━━━━━━━━━━━━━━━━━━━━━━━━━━━━━━━━━━━━\u001b[0m \u001b[32m3.9/3.9 MB\u001b[0m \u001b[31m58.6 MB/s\u001b[0m eta \u001b[36m0:00:00\u001b[0m\n",
            "\u001b[2K     \u001b[90m━━━━━━━━━━━━━━━━━━━━━━━━━━━━━━━━━━━━━━━━\u001b[0m \u001b[32m286.1/286.1 kB\u001b[0m \u001b[31m32.2 MB/s\u001b[0m eta \u001b[36m0:00:00\u001b[0m\n",
            "\u001b[2K     \u001b[90m━━━━━━━━━━━━━━━━━━━━━━━━━━━━━━━━━━━━━━━━\u001b[0m \u001b[32m77.9/77.9 kB\u001b[0m \u001b[31m8.5 MB/s\u001b[0m eta \u001b[36m0:00:00\u001b[0m\n",
            "\u001b[2K     \u001b[90m━━━━━━━━━━━━━━━━━━━━━━━━━━━━━━━━━━━━━━━━\u001b[0m \u001b[32m58.3/58.3 kB\u001b[0m \u001b[31m8.2 MB/s\u001b[0m eta \u001b[36m0:00:00\u001b[0m\n",
            "\u001b[2K     \u001b[90m━━━━━━━━━━━━━━━━━━━━━━━━━━━━━━━━━━━━━━━━\u001b[0m \u001b[32m30.8/30.8 MB\u001b[0m \u001b[31m36.5 MB/s\u001b[0m eta \u001b[36m0:00:00\u001b[0m\n",
            "\u001b[2K     \u001b[90m━━━━━━━━━━━━━━━━━━━━━━━━━━━━━━━━━━━━━━━━\u001b[0m \u001b[32m49.4/49.4 kB\u001b[0m \u001b[31m6.7 MB/s\u001b[0m eta \u001b[36m0:00:00\u001b[0m\n",
            "\u001b[2K     \u001b[90m━━━━━━━━━━━━━━━━━━━━━━━━━━━━━━━━━━━━━━━━\u001b[0m \u001b[32m1.7/1.7 MB\u001b[0m \u001b[31m11.2 MB/s\u001b[0m eta \u001b[36m0:00:00\u001b[0m\n",
            "\u001b[?25h"
          ]
        }
      ]
    },
    {
      "cell_type": "code",
      "source": [
        "import os\n",
        "from IPython.display import Markdown\n",
        "from pdf2image import convert_from_path\n",
        "import ipywidgets as widgets\n",
        "from IPython.display import display as ipy_display\n",
        "from ipywidgets import Output\n",
        "from tabulate import tabulate\n",
        "import pytesseract\n",
        "from PIL import Image\n",
        "\n",
        "\n",
        "def pdf_to_markdown(pdf_path, markdown_path, save_file=True, language='mar'):\n",
        "    \"\"\"\n",
        "    Convert a PDF file to Markdown using OCR.\n",
        "\n",
        "    Args:\n",
        "        pdf_path (str): Path to the input PDF file.\n",
        "        markdown_path (str): Path to save the output Markdown file.\n",
        "        save_file (bool): Flag to indicate whether to save the Markdown file.\n",
        "        language (str): Language for OCR. Default is 'mar' (Marathi).\n",
        "\n",
        "    Returns:\n",
        "        str: Extracted text in Markdown format.\n",
        "    \"\"\"\n",
        "    # Convert PDF to images\n",
        "    images = convert_from_path(pdf_path)\n",
        "\n",
        "    # Initialize a variable to store the accumulated text\n",
        "    accumulated_text = ''\n",
        "\n",
        "    # Check if the output directory exists, create it if it doesn't\n",
        "    output_directory = os.path.dirname(markdown_path)\n",
        "    if not os.path.exists(output_directory):\n",
        "        os.makedirs(output_directory)\n",
        "\n",
        "    # Perform OCR on each image\n",
        "    for i, image in enumerate(images):\n",
        "        # Save the image as a temporary file\n",
        "        image_path = f'image_{i}.png'\n",
        "        image.save(image_path, 'PNG')\n",
        "\n",
        "        # Perform OCR on the image\n",
        "        text = pytesseract.image_to_string(Image.open(image_path), lang=language)\n",
        "\n",
        "        # Accumulate the extracted text\n",
        "        accumulated_text += f'# Page {i+1}\\n\\n{text}\\n\\n'\n",
        "\n",
        "        # Optionally, delete the temporary image file\n",
        "        os.remove(image_path)\n",
        "\n",
        "    # Save the accumulated text to the Markdown file if the flag is True\n",
        "    if save_file:\n",
        "        with open(markdown_path, 'w', encoding='utf-8') as md_file:\n",
        "            md_file.write(accumulated_text)\n",
        "        print('Text extraction complete. Markdown file saved as:', markdown_path)\n",
        "\n",
        "    return accumulated_text\n",
        "\n",
        "\n",
        "\n",
        "\n",
        "def display_text_and_markdown(pdf_path, output_folder, is_write=False):\n",
        "    images = convert_from_path(pdf_path)\n",
        "    markdown_content = pdf_to_markdown(pdf_path,output_folder,save_file=is_write )\n",
        "    image_widgets = [widgets.Image(value=image._repr_png_(), format='png') for image in images]\n",
        "\n",
        "    # Create Markdown widget\n",
        "    markdown_widget = Markdown(markdown_content)\n",
        "\n",
        "    # Create Output widget\n",
        "    output_widget = Output()\n",
        "\n",
        "    # Display Markdown widget inside the Output widget\n",
        "    with output_widget:\n",
        "        display(markdown_widget)\n",
        "\n",
        "    # Create HBox for side-by-side display\n",
        "    hbox = widgets.HBox([widgets.VBox(image_widgets),output_widget])\n",
        "\n",
        "    # Display side by side\n",
        "    ipy_display(hbox)\n",
        "\n",
        "\n",
        "\n"
      ],
      "metadata": {
        "id": "hth-1AecDoDG"
      },
      "execution_count": 4,
      "outputs": []
    },
    {
      "cell_type": "code",
      "source": [
        "display_text_and_markdown(\"/content/ToshieMaruki-FireOfHiroshima (1).pdf\",\"/content/\",False)"
      ],
      "metadata": {
        "id": "qnKb7YH7DtKM",
        "colab": {
          "base_uri": "https://localhost:8080/",
          "height": 1000,
          "referenced_widgets": [
            "a10a71a4a5324dbeac34a556800bfb9c",
            "09eeb496bff445a498e81b0f626c704c",
            "07d3e00a404749dcb49243827573fd63",
            "efbe33565a4c4910a4fcba7e679968e0",
            "02436962952f44cdb39f832616c479a1",
            "067800c7e2354db297deccfe3097ee2a",
            "09a8e7030d3b474596c96667ef5ecf3c",
            "36b2f92b8d354e1f8e924af2490a14e0",
            "5023b675567e4bd4aec3a3c78bbc7de5",
            "38e83548ea7444039635682769652d1c",
            "e6354972d3704d88850461044c5f7d8c",
            "dd9ca93453994fb78dac9d91e17064eb",
            "9f29853c06834668b2400744170aadf1",
            "d148a43773f84a9cafa435d3df045d0c",
            "ed6cc820a60249caad67465a59856b12",
            "fcf3e90c59be48d59a5d8276a57b805a"
          ]
        },
        "outputId": "b11934b5-3d2d-4661-f0e8-1262c1d09117"
      },
      "execution_count": 6,
      "outputs": [
        {
          "output_type": "display_data",
          "data": {
            "text/plain": [
              "HBox(children=(VBox(children=(Image(value=b'\\x89PNG\\r\\n\\x1a\\n\\x00\\x00\\x00\\rIHDR\\x00\\x00\\x06\\xa4\\x00\\x00\\x08\\x9…"
            ],
            "application/vnd.jupyter.widget-view+json": {
              "version_major": 2,
              "version_minor": 0,
              "model_id": "a10a71a4a5324dbeac34a556800bfb9c"
            }
          },
          "metadata": {}
        }
      ]
    },
    {
      "cell_type": "code",
      "source": [
        "pdf_to_markdown(\"/content/ToshieMaruki-FireOfHiroshima (1).pdf\",\"/content/new folder/output.md\",True)"
      ],
      "metadata": {
        "colab": {
          "base_uri": "https://localhost:8080/",
          "height": 127
        },
        "id": "8eVYaTcN9jIO",
        "outputId": "baa93aca-e8e3-4722-c8be-7609eebb444c"
      },
      "execution_count": 8,
      "outputs": [
        {
          "output_type": "stream",
          "name": "stdout",
          "text": [
            "Text extraction complete. Markdown file saved as: /content/new folder/output.md\n"
          ]
        },
        {
          "output_type": "execute_result",
          "data": {
            "text/plain": [
              "'# Page 1\\n\\nहिरोशिमातील अग्निकांड\\nलेखक 8 तोशी मारूकी\\n\\nहिरोशिमा शहरातील ती एक प्रसन्न सकाळ होती . आकाश निरभ्र होते . आकाशात सूर्य तळपत होता .\\nशहरातील बसेस ऑफिसला जाणा-या लोकांची ने आण करण्यात मग्न होत्या . शहरातील सातही नदया\\nसंथपणे वाहात होत्या . पाण्यावर सूर्यकिरणे पडून ते चमचमत होते -\\n\\nजपानमधील टोकियो, ओसाका, नागोया या आणि इतर शहरांवर हवाई हल्ले चालू होते. या\\nहल्ल्यांमधून आपले शहर वगळले गेल्यावद्दल हिरोशिमावासी आश्चर्य व्यक्\\u200dत करीत होते . त्यांनी हवाई\\nहल्ल्यांना तोंड देण्यासाठी शक्\\u200dय तितकी सर्व खबरदारी घेतली होती . आग पसरण्याचा धोका कमी\\nकरण्यासाठी जुन्या इमारती पाडून रस्ते रूंद केले होते . बॉम्बहल्ल्यापासून वचावासाठी सुरक्षित जागा\\nनिश्चित केल्या होत्या . अन्न, पाणी, औषधे अशा दैनंदिन वस्तूंचा साठा करून ठेवला होता . घराबाहेर\\nपडताना सर्वजण शिरस्त्राण घालून वाहेर पडत असत .\\n\\n\\'मि\\' ही एक सात वर्षांची मुलगी याच शहरात आपल्या आईवडिलांसोवत राहात होती . \\'मि\\' चे कुटुंब\\nसकाळचा नेहमीचाच रताळयांचा नाश्ता करत होते . ती रताळी \\'मि\\'च्या चुलतभावाने आणून दिली\\nहोती . भुकेल्या पोटी \\'मि\\' त्या नाश्त्यावर ताव मारत होती . \\'मि\\'च्या वडिलांना नाश्त्यासाठी खरेतर भात\\nमिळाल्यास हवा होता पण आत्ता मिळत असलेला नाश्ताही चांगला आहे हे त्यांना कळत होते .\\n\\nआणि तेवढयात अचानक प्रकाशाचा एक लोळ चमकला . प्रखर केशरी, मग हजारो विजा\\nचमकल्यासारखा पांढरा असा तो प्रकाश होता . नंतर डोळे दिपवून टाकणारा विजांचा कडकडाट झाला\\nआणि इमारती धडाधड कोसळू लागल्या .\\n\\nहा स्फोट होण्याच्या आधी काही क्षण अमेरिकेचे \\'एनोला गे\\' या नावाचे विमान शहरावरून फिरत होते\\nआणि अतिशय गुप्त असे महासंहारक स्फोटक त्यांनी हिरोशिमावर टाकले . हे स्फोटक म्हणजे वी २९\\nच्या विमान कर्मचा-यांनी \\'छोटा मुलगा\\' हे नाव दिलेला अणुबॉम्ब होता .\\n\\nहा \\'छोटा मुलगा ६ ऑगस्ट १९४५ रोजी सकाळी ८ .४५ वाजता हिरोशिमावर कोसळला. या\\nस्फोटाच्या धक्कयाने \\'मि\\' वेशुद्ध पडली . ती शुद्धीवर आल्यानंतर तिला सर्वत्र अंधार आणि भयाण\\nशांतता आढळली . तिला अजिबात हालचाल करता येत नव्हती आणि सभोवतालच्या वातावरणाची\\nतिला प्रचंड भीती वाटत होती . त्याच काळोखात तिला एक लालसर प्रकाशाचा झोत दिसला आणि\\nतिच्या आईच्या हाका ऐकू आल्या .\\n\\x0c\\n\\n# Page 2\\n\\nअंगावर कोसळलेल्या जाडजूड लाकडी फळयांमधून \\'मि\\' कशीबशी बाहेर पडली . तिच्या आईने तिला\\nकुशीत घेतले आणि तिला म्हणाली “आपण येथून ताबडतोब बाहेर पडायला हवं . . तुझे वडिल\\nआगीच्या ज्वाळांमध्ये सापडले आहेत . ”\\n\\n“मि\\' आणि तिची आई आगीच्या कडेकडेने चालायला लागल्या आणि मनातल्या मनात वीडलांसाठी\\nप्रार्थना करू लागल्या . \\'मि\\'च्या आईला तिचे वडिल दिसले व तिने आगीत शिरून झटकन त्यांना ओढून\\nकाढले . त्यांच्या अंगावर भयानक जखमा झाल्या होत्या . \\'मि\\'च्या आईने तिच्या किमोनोचा कमरेचा बंद\\nकाढून वडिलांच्या अंगाभोवती वेंडेजसारखा गुंडाळला . आणि नंतर तिने आश्रच्वर्य वाटावे अशा प्रकारे\\n\\'मि\\'च्या वडिलांना स्वतःच्या पाठीवर घेतले व \\'मि\\'चा हात धरून पळायला सुरूवात केली .\\n\\n“आपण लवकरात लवकर नदीपाशी पोहोचायला हवे” \\'मि\\'ची आई म्हणाली . ते तिघेजण नदीच्या\\nकाठावरून चालत असताना नदीत कोसळले आणि \\'मि\\'चा हात तिच्या आईच्या हातातून सुटला . “माझे\\nबोट घट्ट पकडून ठेव” \\'मि\\'ची आई ओरडून म्हणाली .\\n\\nहजारो लोक आगीपासून दूर पळत होते . ज्यांच्या अंगावरचे कपडे जळाले आहेत डोळे व ओठ भयंकर\\nसुजल्यामुळे चेहरा विद्रूप दिसतो आहे अशी अनेक लहान मुले \\'मि\\'ला दिसत होती . ती मुले अक्षरश\\nभुतासारखी दिसत होती व केविलवाण्या आवाजात रडत होती . चालता चालता अंगातील शक्\\u200dती\\nनाहीशी होऊन काही लोक जमिनीवर पालथे पडले होते आणि इतर काही लोक त्यांच्या अंगावर कोसळत\\nहोते . जिकडेतिकडे प्रेतांचे ढिगारे साचले होते .\\n\\n“मि\\' आणि तिच्या आईवडिलांनी आगीपासून सुटका करून घेण्याच्या प्रयलात अजून एक नदी\\nओलांडली . नदीच्या काठावर पोहोचताक्षणी \\'मि\\' च्या आईने तिच्या वडिलांचा देह खाली ठेवला आणि\\nती त्यांच्या शेजारी कोसळली . \\'मि\\' ला तिच्या पायांपाशी काहीतरी फडफडताना आढळले . तिथे पंख\\nजळाल्यामुळे उडता न येणारा एक पक्षी होता . एक माणूस नदीच्या पात्रात तरंगताना तिला दिसला .\\n\\n\"०0. ५\\n\\nत्याच्याच मागे एक मेलेले मांजर तरंगत होते .\\n\\n“मि\\'ने वळून पाहिले तर एक बाई तिच्या बाळाला छातीशी धरून आकाश करीत होती . तिचे बाळ आता\\nदूध पीत नव्हते . ते मृत झाले होते . त्या बाळाला छातीशी धरून ती स्त्री पाण्यातून फरफटत चालत\\nहोती . \\'मि\\' तिच्याकडे बघत असतानाच ती पाण्यात खोल खोल चालत दिसेनाशी झाली .\\n\\nअचानक आकाशात काळे ढग जमले विजा कडाडल्या आणि पाऊस पडू लागला . ऐन उन्हाळयाचे\\nदिवस असून अचानक काळा, चिकट पाऊस पडत होता . तो थांवल्यानंतत आकाशात एक इंद्रधनुष्य\\nडीलदारपणे उमटले . त्या जखमी मृत वातावरणावर ते विजोडपणे चमकत होते .\\n\\x0c\\n\\n# Page 3\\n\\n\\'मि\\'च्या आईने परत तिच्या वडिलांना पाठीवर घेतले, \\'मि\\'चे बोट धरले आणि ते तिघेजण परत एकदा\\nपळायला लागले . आगीचे लोळ वेगाने त्यांच्या दिशेने येत होते . तुटलेल्या कौलांवरून, टेलिफोनच्या\\nतुटलेल्या तारांच्या जाळयामधून ते पळत होते . आजूवाजूची सर्व घरे जळत होती .\\n\\nआता त्या दोघी अजून एका नदीतून चालायला लागल्या . चालताचालता \\'मि\\'ला झापड आली आणि\\nनकळत तिच्या नाकातोंडात पाणी गेले . तिच्या आईने तिचे डोके पाण्यावाहेर ओढून काढले . त्या\\nनदीच्या बाहेर पडल्या आणि परत पळू लागल्या .\\n\\nअखेरीस त्या हिरोशिमाव्या बाहेरील एका किना-यावर पोहोचल्या . धुक्यात लपेटलेले \\'मिजियामा\\'\\nनावाचे वेट पलीकडे दिसत होते . मिजियामा मेपल आणि पाईनवृक्षांनी वेढलेले होते आणि\\nत्याच्याभोवताली नितळ पाणी होते . सुरक्षित ठिकाणाजवळ पाहोचल्याच्या विचाराने \\'मि\\' व तिचे आई\\nवडिल गाढ झोपी गेले . दिवसामागून रात्र अशी तीन चके पूर्ण झाली .\\n\\n“आजची तारीख काय आहे ?” \\'मि\\'च्या आईने तिकडून जाणा या एका माणसाला विचारले . “आज\\n९ तारीख आहे”. त्याने उत्तर दिले. \\'मि\\'च्या आईने बोटे मोजून हिशेव केला आणि ती आश्तवर्याने\\nउदगारली “चार दिवस” आपण येथे चार दिवस आहोत !\\n\\n“\\'मि\\' हळूच रडायला लागली . तेथून जाणा-या एका वृद्ध स्त्रीने पिशवीतून थोडासा भात काढून \\'मि\\'ला\\nदिला . तो \\'मि\\'ने घेतला आणि ती स्त्री तिथेच कोसळून गतप्राण झाली .\\n\\n“मे\\' वाळा , तुझ्या हातात परवाचा खाऊ तसाच आहे” \\'मि\\'ची आई म्हणाली . \\'मि\\'च्या वंद मुठीत चार\\nदिवसांपूर्वीचा खाऊ तसाच होता व तिची मूठ उघडतच नव्हती . तिच्या आईने एक एक बोट सरळ\\nकरत \\'मि\\'ची मूठ उघडली . बॉम्बस्फोटानंतर चार दिवसांनी \\'मि\\'ने तिच्या हातातील खाऊ टाकून दिला .\\n\\nजवळच्या एका खेडयातून अग्निशामक दलाची माणसे त्यांच्या मदतीसाठी आली होती . सैनिक मृत देह\\nहलवित होते . अजूनही नीटपणे उभ्या असलेल्या एका शाळेचे इस्पितळात रूपांतर करण्यात आले होते .\\n\\'मि\\'च्या वडिलांना सैनिकांनी त्यात हलवले . इस्पितळात डॉक्टर, नर्सेस, मलमपट्टीची साधने काहीच\\n\\nनव्हते, फक्त निवारा होता .\\n\\n \\n\\n\\'मि\\'चे वडिल त्या इस्पितळात शक्\\u200dय तितके सुरक्षित आहेत याची खात्री करून \\'मि\\' व तिची आई यांनी\\nपरत शहरात आपल्या घरात काही चीजवस्तू वाचल्या आहेत का हे पाहाण्याचे ठरविले . त्या घराच्या\\nदिशेने चालायला लागल्या . भोवताली झाडे, गवत , घरे काहीही शिल्लक नव्हते . नजर जाईल\\nतिथपर्यंत जमिनाचा जळून गेलेला पट्टा दिसत होता . सगळे उध्वस्त झालेले दिसत होते .\\n\\x0c\\n\\n# Page 4\\n\\nत्या दोधी घरापाशी पोहोचल्या . त्या घरात \\'मि\\'चे कुटंब राहात होते याची साक्ष म्हणून फक्त \\'मि\\'ची एक\\nताटली वेडयावाकडया अवस्थेत जमिनीवर पडलेली दिसत होती . त्यात अजूनही काही रताळी दिसत\\nहोती .\\n\\n९ ऑगस्ट १९४५, \\'मि\\' व तिची आई त्या दगडविटांच्या ढिगाकडे पाहात असताना नागासाकीवर\\nअणुवॉम्व टाकला जात होता . हिरोशिमाप्रमाणेच तेथेही हजारो लोक मरण पावले . त्यातून वाचलेले\\nलोक वेघर झालेले होते . या संहाराचे वळी ठरलेल्या लोकांमध्ये जपानी लोकांप्रमाणेच कोरिया चीन\\nइंडोनेशिया व अमेरिका या इतर देशांमधील लोकही सामील होते .\\nअणुबॉम्ब हा आत्तापर्यंत वापरल्या गेलेल्या इतर स्फोटकांपेक्षा वेगळा होता . इतर साध्या हजारो\\nबॉम्बस्फोटांमुळे जेवढा संहार झाला नसता त्याहून कितीतरी जास्त संहार एका अणुबॉम्बच्या स्फोटाने\\nझाला . किरणोत्सारी रसायनांमुळे त्यानंतर आजूबाजूचा भूभाग पुढची अनेक वर्षे दूषित झाला आणि\\nत्याच्या परिणामाने अनेक लोक मृत्यू पावले .\\n\\n \\n\\n\\'मि\\'ची त्यानंतर शारीरिक वाढच खुंटली . अनेक वर्षानंतरही ती सात वर्षांची असताना जेवढी होती\\nतेवढीच राहिली . “बॉम्वहल्ल्याच्या धक्क्याने असे झाले आहे, असे तिची आई म्हणते . कधीकधी \\'मि\\'\\nडोके खाजते आहे अशी तकार करते . \\'मि\\'ची आई तिच्या डोकयावरील केस बाजूला करून छोटया\\nचिमटयाने तिच्या डोक्यावरील कातडीतून काचेसारखे चकाकते तुकडे उपटून काढते . काही वर्षापूर्वी\\nडोक्यावर झालेल्या बॉम्बस्फोटाचा हा प्रसाद आहे .\\n\\n \\n\\n“\\'मि\\'च्या वडिलांच्या शरीरावर सात जखमा झाल्या होत्या . त्या भरून येऊ लागल्या आणि काही काळ ते\\nवरे झाले आहेत असे वाटायला लागले . परंतु एका हिवाळयात वीज चमकल्यानंतर त्यांचे सर्व केस\\nगळून पडले आणि त्यांना रक्\\u200dताच्या उलटया झाल्या . नंतर अंगभर निळेजांभळे वण उठले आणि ते मरण\\nपावले . “देवानेच आमचे आयुष्य वाचविले” असे म्हणणारे कित्येक लोक नंतर अशा प्रकारे\\nकिरणोत्साराच्या संसर्गाने मरण पावले . बॉम्बस्फोटाची घटना १९४५ मध्ये घडली असली तरी या संसर्गाने\\nपीडित काही लोक अजूनही इस्पितळात आहेत . त्यांच्या या दुखण्यावर कोणताही इलाज नाही .\\n\\nहिरोशिमामध्ये आता दरवर्षी ६ ऑगस्ट रोजी वॉम्बहल्ल्यात मरण पावलेल्या लोकांचे नातेवाईक दिव्यांवर\\nमृत व्यक्तींची नावे कोरून ते दिवे नदयांच्या प्रवाहात सोडतात . हिरोशिमातील सात नदया ते दिवे\\nघेऊन संथपणे समुदाच्या दिशेने वाहत असतात .\\n\\n“मि\\', जी अजूनही एका लहान मुलीएवढीच दिसते ती एका दिव्यावर \\'माझे वडिल\\' व दुस-यावर \\'एक\\n3 व लिहिते वर *_ ० झालेली न *_ \"1 ८७१ दवे\\nपक्षी असे लिहिते . तिची आता केस पांढरे झालेली आई दु$खद अंत४करणाने \\'मि\\' ते दिवे नदीच्या\\n६\\n\\nपात्रात सोडत असताना पाहाते . “हे परत घडणार नाही” ती पुटपुटते . “जर कोणी परत अणुबॉम्ब\\nटाकला नाही तर”\\n\\x0c\\n\\n# Page 5\\n\\nया पुस्तकाविषयी थोडेसे\\n\\n१९५३ मध्ये मी अणुबॉम्बविषयक चित्रांचे गेनेवेके नो झू\\' या नावाचे जपानमधील हिक्\\u200d्काइडो येथे एक\\nप्रदर्शन आयोजित केले होते . प्रदर्शन पाहायला जमलेल्या लोकांमध्ये माझ्या चित्रांकडे रागाने पाहाणारी\\nएक स्त्री मला दिसली . काही वेळाने ती घोळक्यातून बाहेर येऊन माझ्याशी बोलू लागली .\\n\\nती म्हणाली , मी या प्रदर्शनाला भेट देण्यासाठी आले कारण मला वाटले तुम्ही अणुवॉम्वच्या यातना\\n\\nजाणवतील असे प्रदर्शन मांडले आहे . मी आत यायचे नाही असे आधी पक्के ठरविले होते .पण आता\\nतुमची चित्रे पाहिल्यानंतर मी तुम्हाला माझी कथा सांगू इच्छिते .\\n\\nवॉम्वस्फोटानंतर मी हिक्काइडोला स्थायिक झाले . येथील लोकांना माझ्यावद्दल दया किंवा सहानुभूति\\nवाटत नाही .मी वॉम्वहल्ल्यावद्दल वोलायला लागले की अतिरंजित गोष्टी सांगून त्यांची दया\\nमिळविण्याचा प्रयत्न करते असे त्यांना वाटते . यामुळे मी आता तो विषयच वंद केला आहे . हे वोलून\\n\\nत्या महिलेने क्षणभर डोळे मिटले . नंतर ती ध्वनिवर्धकापाशी गेली व अक्षरश&$ ओरडून बोलू लागली .\\n\\n \\n\\nआत्ता येथे जे लोक जमले आहेत ते माझ्यावर विश्\\u200dवास ठेवतील अशी आशा आहे . कृपया माझे म्हणणे\\nऐकून घ्या . माझ्यावर विश्\\u200dवास ठेवा. आणि रडत , अडखळत तिने तिची कथा सांगायला सुरूवात\\nकेली.\\n\\nवॉम्वहल्ल्यातून सुटकेचा केलेला प्रयत्न, नव-याला पाठीवर आणि मुलीला हाताशी धरून ओलांडलेल्या\\nनदया हे सर्व ती सांगत राहिली . लोक ऐकत होते . काही रडत होते . तिचे सांगून झाल्यावर ती फक्त\\nएवढेच म्हणाली \\'माझ म्हणणे ऐकून घेतल्यावद्दल आभारी आहे . \\'\\n\\nहृदय हेलावून टाकणारा तो प्रसंग माझ्या नजरेसमोर नंतर तसाच राहिला . हे पुस्तक त्या महिलेच्या कथेवर\\nआधारित आहे . त्यात काही ठिकाणी इतर लोकांनी सांगितलेल्या अणुबॉम्बच्या प्रसंगांचे धागे गुंफलेले\\nआहेत .\\n\\nमी आता सत्तरी ओलांडली आहे .मला स्वत$ला मुले नातवंडे नाहीत .पण जगभरातल्या नातवंडांसाठी मी\\nही कथा लिहिली आहे . मला ती पूर्ण करायला खूप वेळ लागला कारण घडून गेलेल्या वाइट\\nघटनांबद्दल नवीन पिढीला कसे सांगावे हा प्रश्\\u200dन होता .\\n\\nमी माझ्या प्रकाशकांचे व चिवा वंधूंचे त्यांनी दिलेल्या प्रोत्साहनावद्दल आभार मानतो . माझ्या सर्व\\nमित्रांचाही मी आभारी आहे .\\n\\nतोशी मारूकी\\n\\x0c\\n\\n'"
            ],
            "application/vnd.google.colaboratory.intrinsic+json": {
              "type": "string"
            }
          },
          "metadata": {},
          "execution_count": 8
        }
      ]
    },
    {
      "cell_type": "code",
      "source": [
        "from transformers import AutoModelForCausalLM, AutoTokenizer, BitsAndBytesConfig\n",
        "from llama_index.core import VectorStoreIndex\n",
        "from llama_index.core import StorageContext\n",
        "from llama_index.core import SimpleDirectoryReader\n",
        "from llama_index.vector_stores.astra_db import AstraDBVectorStore\n",
        "from llama_index.core.node_parser import SimpleNodeParser\n",
        "from llama_index.embeddings.cohere import CohereEmbedding\n",
        "import json\n",
        "from llama_index.core import ServiceContext\n",
        "from cassandra.auth import PlainTextAuthProvider\n",
        "from cassandra.cluster import Cluster\n",
        "from llama_index.llms.huggingface import HuggingFaceLLM"
      ],
      "metadata": {
        "id": "V2zyrbHgwdAv"
      },
      "execution_count": 1,
      "outputs": []
    },
    {
      "cell_type": "code",
      "source": [
        "from llama_index.core import set_global_service_context"
      ],
      "metadata": {
        "id": "MBaDKq4V9DkW"
      },
      "execution_count": 2,
      "outputs": []
    },
    {
      "cell_type": "markdown",
      "source": [
        "### Restart The seesion after installing accelerate"
      ],
      "metadata": {
        "id": "ByCGbV9IJQYL"
      }
    },
    {
      "cell_type": "code",
      "source": [
        "import torch\n",
        "\n",
        "llm = HuggingFaceLLM(\n",
        "    context_window=4096,\n",
        "    max_new_tokens=256,\n",
        "    tokenizer_name=\"Telugu-LLM-Labs/Indic-gemma-2b-finetuned-sft-Navarasa-2.0\",\n",
        "    model_name=\"Telugu-LLM-Labs/Indic-gemma-2b-finetuned-sft-Navarasa-2.0\"\n",
        ")"
      ],
      "metadata": {
        "id": "IOLAS5Xq5LU-",
        "colab": {
          "base_uri": "https://localhost:8080/",
          "height": 178,
          "referenced_widgets": [
            "415ef13e30e94683969a4a1766247be1",
            "4481517a2dfd47678ecfeaf970d9168b",
            "3d30e76b11864d229a2e18618615f611",
            "c522f5e4052e42caa9a7f17cfc5bac5a",
            "e2dcc4a4c7ed4be0afd97e5e6a65126c",
            "713314de56994ba195bb3005e3110db9",
            "1785dd44f1b0463192b301e81341d492",
            "8ebffb66456844a7b3e3f8a4d3803042",
            "799687b17b094337ad0eb1bd8b8d70c6",
            "f9df6163acd3483698df28ab3a07d37b",
            "084351e431b448848ec54b94cd8aea10"
          ]
        },
        "outputId": "3ba8bb26-f9c8-4d29-fe0e-8b54c1c90fea"
      },
      "execution_count": 3,
      "outputs": [
        {
          "output_type": "stream",
          "name": "stderr",
          "text": [
            "/usr/local/lib/python3.10/dist-packages/huggingface_hub/utils/_token.py:88: UserWarning: \n",
            "The secret `HF_TOKEN` does not exist in your Colab secrets.\n",
            "To authenticate with the Hugging Face Hub, create a token in your settings tab (https://huggingface.co/settings/tokens), set it as secret in your Google Colab and restart your session.\n",
            "You will be able to reuse this secret in all of your notebooks.\n",
            "Please note that authentication is recommended but still optional to access public models or datasets.\n",
            "  warnings.warn(\n"
          ]
        },
        {
          "output_type": "display_data",
          "data": {
            "text/plain": [
              "Loading checkpoint shards:   0%|          | 0/3 [00:00<?, ?it/s]"
            ],
            "application/vnd.jupyter.widget-view+json": {
              "version_major": 2,
              "version_minor": 0,
              "model_id": "415ef13e30e94683969a4a1766247be1"
            }
          },
          "metadata": {}
        }
      ]
    },
    {
      "cell_type": "code",
      "source": [
        "documents = SimpleDirectoryReader(\"/content/new folder/\").load_data()\n",
        "print(f\"Loaded {len(documents)} document(s).\")"
      ],
      "metadata": {
        "colab": {
          "base_uri": "https://localhost:8080/"
        },
        "id": "Z7-U61Yhwjrh",
        "outputId": "5430293c-5b23-4456-be78-36a977dbde9b"
      },
      "execution_count": 4,
      "outputs": [
        {
          "output_type": "stream",
          "name": "stdout",
          "text": [
            "Loaded 5 document(s).\n"
          ]
        }
      ]
    },
    {
      "cell_type": "code",
      "source": [
        "llm=llm"
      ],
      "metadata": {
        "id": "oRBanqmVwjuC"
      },
      "execution_count": 5,
      "outputs": []
    },
    {
      "cell_type": "code",
      "source": [
        "from google.colab import userdata\n",
        "my_secret_key = userdata.get('Cohere_API_KEY')"
      ],
      "metadata": {
        "id": "fbu9vbIY5n43"
      },
      "execution_count": 6,
      "outputs": []
    },
    {
      "cell_type": "code",
      "source": [
        "embed_model = CohereEmbedding(\n",
        "    cohere_api_key=my_secret_key,\n",
        "    model_name=\"embed-multilingual-v3.0\",\n",
        "    input_type=\"search_document\",\n",
        ")\n"
      ],
      "metadata": {
        "id": "OjNLoqDfwjxW"
      },
      "execution_count": 7,
      "outputs": []
    },
    {
      "cell_type": "code",
      "source": [
        "service_context = ServiceContext.from_defaults(\n",
        "    llm = llm,\n",
        "    embed_model = embed_model,\n",
        "    chunk_size=256,\n",
        ")\n",
        "set_global_service_context(service_context)"
      ],
      "metadata": {
        "colab": {
          "base_uri": "https://localhost:8080/"
        },
        "id": "_Qgvc8bLwj5G",
        "outputId": "5315cc9a-ed8c-43f9-a013-a1c0f22d58e9"
      },
      "execution_count": 8,
      "outputs": [
        {
          "output_type": "stream",
          "name": "stderr",
          "text": [
            "<ipython-input-8-7c0d16011bf8>:1: DeprecationWarning: Call to deprecated class method from_defaults. (ServiceContext is deprecated, please use `llama_index.settings.Settings` instead.) -- Deprecated since version 0.10.0.\n",
            "  service_context = ServiceContext.from_defaults(\n"
          ]
        }
      ]
    },
    {
      "cell_type": "code",
      "source": [
        "index = VectorStoreIndex.from_documents(documents,\n",
        "                                        service_context=service_context)\n",
        "\n",
        "query_engine = index.as_query_engine()"
      ],
      "metadata": {
        "id": "JWt1LD1Owj8l"
      },
      "execution_count": 9,
      "outputs": []
    },
    {
      "cell_type": "code",
      "source": [
        "response = query_engine.query(\"लेखकाचे नाव काय आहे?\")\n",
        "print(response)"
      ],
      "metadata": {
        "colab": {
          "base_uri": "https://localhost:8080/"
        },
        "id": "6jSK_IrT2WFf",
        "outputId": "7ac9e1a0-ac9b-42b0-e66e-4cba0da0f509"
      },
      "execution_count": 10,
      "outputs": [
        {
          "output_type": "stream",
          "name": "stdout",
          "text": [
            "\n",
            "लेखकाचे नाव 'मि' आहे.\n"
          ]
        }
      ]
    },
    {
      "cell_type": "code",
      "source": [
        "response = query_engine.query(\"पुस्तकाविषयी थोडी माहिती हवी आहे\")\n",
        "print(response)"
      ],
      "metadata": {
        "colab": {
          "base_uri": "https://localhost:8080/"
        },
        "id": "9AFeHzjC2Psr",
        "outputId": "d5196370-afb2-4320-c3d6-af3ddf8fad89"
      },
      "execution_count": 13,
      "outputs": [
        {
          "output_type": "stream",
          "name": "stdout",
          "text": [
            "\n",
            "पुस्तकाविषयी थोडी माहिती हवी आहे.\n"
          ]
        }
      ]
    },
    {
      "cell_type": "code",
      "source": [
        "response = query_engine.query(\"नागासाकी वर अणुबॉम्ब कधी टाकण्यात आला?\")\n",
        "print(response)"
      ],
      "metadata": {
        "colab": {
          "base_uri": "https://localhost:8080/"
        },
        "id": "4Vi96eb1Ez59",
        "outputId": "89fb54dc-cc50-402c-faab-03137bf25d2e"
      },
      "execution_count": 12,
      "outputs": [
        {
          "output_type": "stream",
          "name": "stdout",
          "text": [
            "9 ऑगस्ट 1945 रोजी नागासाकीवर अणुबॉम्ब टाकण्यात आला.\n"
          ]
        }
      ]
    },
    {
      "cell_type": "code",
      "source": [
        "response = query_engine.query(\"छोटा मुलगा कोणत्या दिवशी आणि किती वाजता हिरोशिमा वर कोसळला?\")\n",
        "print(response)"
      ],
      "metadata": {
        "colab": {
          "base_uri": "https://localhost:8080/"
        },
        "id": "gvwItfpbBps7",
        "outputId": "9594bd1f-3e0b-4c4e-f2b7-6c7efbe55189"
      },
      "execution_count": 11,
      "outputs": [
        {
          "output_type": "stream",
          "name": "stdout",
          "text": [
            "6 ऑगस्ट 1945 रोजी सकाळी 8.45 वाजता हिरोशिमावर छोटा मुलगा कोसळला.\n"
          ]
        }
      ]
    },
    {
      "cell_type": "code",
      "source": [
        "response = query_engine.query(\"स्फोट  होण्याच्या काही क्षणाआधी शहरावरून फिरणाऱ्या अमेरिकन विमानाचे नाव काय होते?\")\n",
        "print(response)"
      ],
      "metadata": {
        "id": "odGlcgj142zc",
        "colab": {
          "base_uri": "https://localhost:8080/"
        },
        "outputId": "d6129cd2-87ea-4eab-e2dd-843c4131db37"
      },
      "execution_count": 40,
      "outputs": [
        {
          "output_type": "stream",
          "name": "stdout",
          "text": [
            "\n",
            "अमेरिकेचे 'एनोला गे' या नावाचे विमान शहरावरून फिरत होते.\n"
          ]
        }
      ]
    },
    {
      "cell_type": "code",
      "source": [],
      "metadata": {
        "id": "G8oMLfqrPqZv"
      },
      "execution_count": null,
      "outputs": []
    }
  ]
}